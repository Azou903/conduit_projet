{
 "cells": [
  {
   "cell_type": "markdown",
   "id": "f5508bbd",
   "metadata": {},
   "source": [
    "# Imports"
   ]
  },
  {
   "cell_type": "markdown",
   "id": "70673fdf",
   "metadata": {},
   "source": [
    "We import all libraries."
   ]
  },
  {
   "cell_type": "code",
   "execution_count": 1,
   "id": "89c07e7a",
   "metadata": {},
   "outputs": [],
   "source": [
    "from sklearn.utils import shuffle, resample\n",
    "import numpy as np\n",
    "from sklearn.feature_extraction.text import CountVectorizer\n",
    "from sklearn.model_selection import train_test_split\n",
    "import joblib\n",
    "import pandas as pd\n",
    "import os"
   ]
  },
  {
   "cell_type": "markdown",
   "id": "3c1e4de7",
   "metadata": {},
   "source": [
    "# Data preparation"
   ]
  },
  {
   "cell_type": "markdown",
   "id": "8f2f70ae",
   "metadata": {},
   "source": [
    "For the model to be used, a vectorization of the tweets will be done. This because the argorithm to be used does not work with words but with matrices.\n",
    "A Countvectorizer will be performed. For this to be, the data will be split into train and testing. Right after, the vectorizer will be performed using the training set, for then transform the test set using the dictionary created by the training set. \n",
    "For the Vectorizer to be performed, the train and test data set need to be lists of words. \n",
    "\n",
    "First the data that has already been cleaned in the exploration step is loaded."
   ]
  },
  {
   "cell_type": "code",
   "execution_count": 2,
   "id": "047e8e8d",
   "metadata": {},
   "outputs": [],
   "source": [
    "data=pd.read_csv(\"data/processed_train.csv\")"
   ]
  },
  {
   "cell_type": "code",
   "execution_count": 3,
   "id": "ed56c294",
   "metadata": {},
   "outputs": [],
   "source": [
    "data = shuffle(data,random_state =1) #data will be randomly shuffled so then when resampling the data it can be "
   ]
  },
  {
   "cell_type": "markdown",
   "id": "4081b909",
   "metadata": {},
   "source": [
    "### 1. Not balancing the data"
   ]
  },
  {
   "cell_type": "markdown",
   "id": "8c961907",
   "metadata": {},
   "source": [
    "Splitting the data into train and test datasets."
   ]
  },
  {
   "cell_type": "code",
   "execution_count": 10,
   "id": "8a1c4ccd",
   "metadata": {},
   "outputs": [],
   "source": [
    "train, test = train_test_split(data, test_size=0.2, random_state = 1) #control the random sampling to get reproductible results. \n",
    "#We will be using the same distribution of data so we can control for the balancing techniques not to be biased by using different data sets. "
   ]
  },
  {
   "cell_type": "code",
   "execution_count": 11,
   "id": "255c59a2",
   "metadata": {},
   "outputs": [
    {
     "name": "stdout",
     "output_type": "stream",
     "text": [
      "Labels for testing dataset:\n",
      " 0    5955\n",
      "1     438\n",
      "Name: label, dtype: int64 \n",
      "\n",
      "Labels for training dataset:\n",
      " 0    23765\n",
      "1     1804\n",
      "Name: label, dtype: int64\n"
     ]
    }
   ],
   "source": [
    "print(\"Labels for testing dataset:\\n\",test.label.value_counts(),\"\\n\")\n",
    "print(\"Labels for training dataset:\\n\",train.label.value_counts())"
   ]
  },
  {
   "cell_type": "markdown",
   "id": "89d21f1e",
   "metadata": {},
   "source": [
    "Now the datasets will be transformed into lists so they can be used as parameters for the vectorizer. \n",
    "\n",
    "The labels are separated from the tweets."
   ]
  },
  {
   "cell_type": "code",
   "execution_count": 12,
   "id": "be40b824",
   "metadata": {},
   "outputs": [],
   "source": [
    "train_x = list(train[\"processed_tweet\"])\n",
    "test_x = list(test[\"processed_tweet\"])\n",
    "\n",
    "train_y = list(train[\"label\"])\n",
    "test_y = list(test[\"label\"])"
   ]
  },
  {
   "cell_type": "markdown",
   "id": "1ed4b7d0",
   "metadata": {},
   "source": [
    "Now a vectorizer will be fit using a dictionary of 5.000 words. It will be fit using the training data set and then will be used to transform the test dataset."
   ]
  },
  {
   "cell_type": "code",
   "execution_count": 13,
   "id": "ef97647d",
   "metadata": {},
   "outputs": [],
   "source": [
    "vocabulary_size = 5000\n",
    "vectorizer = CountVectorizer(max_features=vocabulary_size)\n",
    "features_train = vectorizer.fit_transform(train_x).toarray()\n",
    "features_test = vectorizer.transform(test_x).toarray()\n",
    "vocabulary = vectorizer.vocabulary_"
   ]
  },
  {
   "cell_type": "code",
   "execution_count": 14,
   "id": "719ed229",
   "metadata": {},
   "outputs": [],
   "source": [
    "train_x = features_train #Now the train and test dataframes X are not processed tweets by arrays of numbers. \n",
    "test_x = features_test"
   ]
  },
  {
   "cell_type": "markdown",
   "id": "1953485c",
   "metadata": {},
   "source": [
    "A validation set will be created out of the training set so it can be passed to the algorithm in sagemaker. "
   ]
  },
  {
   "cell_type": "code",
   "execution_count": 15,
   "id": "e21b887e",
   "metadata": {},
   "outputs": [],
   "source": [
    "len_val = int(len(train_x)*0.2) #the length of the validation dataset will be 20% of that of the whole training set.\n",
    "\n",
    "val_x = pd.DataFrame(train_x[:len_val])\n",
    "train_x = pd.DataFrame(train_x[len_val:])\n",
    "\n",
    "val_y = pd.DataFrame(train_y[:len_val])\n",
    "train_y = pd.DataFrame(train_y[len_val:])"
   ]
  },
  {
   "cell_type": "markdown",
   "id": "642e290e",
   "metadata": {},
   "source": [
    "A first directory will be created for data prepared. Several will be done with different balancing techniques."
   ]
  },
  {
   "cell_type": "code",
   "execution_count": 16,
   "id": "94dea34e",
   "metadata": {},
   "outputs": [],
   "source": [
    "version = \"unbalanced\""
   ]
  },
  {
   "cell_type": "code",
   "execution_count": 17,
   "id": "b39eda09",
   "metadata": {},
   "outputs": [],
   "source": [
    "data_dir = f\"data_prepared_{version}\" #a new folder will be created keeping in mind the version of the different balancing of the data.\n",
    "if not os.path.exists(data_dir):\n",
    "    os.makedirs(data_dir)"
   ]
  },
  {
   "cell_type": "code",
   "execution_count": 18,
   "id": "77484b0f",
   "metadata": {},
   "outputs": [],
   "source": [
    "#all data frames will be saved in the newly created folder.\n",
    "\n",
    "pd.DataFrame(test_x).to_csv(os.path.join(data_dir, 'test.csv'), header=False, index=False) \n",
    "pd.DataFrame(test_y).to_csv(os.path.join(data_dir, 'test_y.csv'), header=False, index=False)\n",
    "\n",
    "pd.concat([val_y, val_x], axis=1).to_csv(os.path.join(data_dir, 'validation.csv'), header=False, index=False)\n",
    "pd.concat([train_y, train_x], axis=1).to_csv(os.path.join(data_dir, 'train.csv'), header=False, index=False)"
   ]
  },
  {
   "cell_type": "code",
   "execution_count": 19,
   "id": "033dec9c",
   "metadata": {},
   "outputs": [],
   "source": [
    "test_X = train_X = val_X = train_y = val_y = None \n",
    "#given the amount of resources the dataframes take, it is a good idea to delete them from the Ram after they have been permanently saved."
   ]
  },
  {
   "cell_type": "markdown",
   "id": "b04ca0f2",
   "metadata": {},
   "source": [
    "Finally, the training and validation as well as the test (the X part) will be ppload the data to S3 storage. From there they are to be called to be used in the training of the model."
   ]
  },
  {
   "cell_type": "code",
   "execution_count": 20,
   "id": "452e5203",
   "metadata": {},
   "outputs": [],
   "source": [
    "import sagemaker #The sagemaker module will be used to upload the data to s3.\n",
    "\n",
    "session = sagemaker.Session() # Store the current SageMaker session\n",
    "\n",
    "# S3 prefix (which folder will we use)\n",
    "prefix = f'twitter_sentiment_{version}'\n",
    "\n",
    "#the location of the information inside of S3 is saved so it can be referenced later. It is saved as string at the same time as is uploaded.\n",
    "test_location = session.upload_data(os.path.join(data_dir, 'test.csv'), key_prefix=prefix) \n",
    "val_location = session.upload_data(os.path.join(data_dir, 'validation.csv'), key_prefix=prefix)\n",
    "train_location = session.upload_data(os.path.join(data_dir, 'train.csv'), key_prefix=prefix)\n",
    "\n",
    "#The location for all the data is permanently saved as a file inside the folder so it can be accessed by other modules.\n",
    "locations = \"%s = {'test': '%s','train': '%s','val':'%s'}\" % (version,test_location,train_location,val_location) #creating a text for a definition of a variable in python\n",
    "\n",
    "with open(\"data/s3_folders.py\", \"w\") as file:\n",
    "    file.write(locations)\n",
    "    file.write(\"\\n\")"
   ]
  },
  {
   "cell_type": "markdown",
   "id": "b57f2079",
   "metadata": {},
   "source": [
    "### 2. Undersampling technique."
   ]
  },
  {
   "cell_type": "code",
   "execution_count": 21,
   "id": "7e161d76",
   "metadata": {},
   "outputs": [],
   "source": [
    "train, test = train_test_split(data, test_size=0.2, random_state = 1) #control the random sampling to get reproductible results. \n",
    "#We will be using the same distribution of data so we can control for the balancing techniques not to be biased by using different data sets. "
   ]
  },
  {
   "cell_type": "code",
   "execution_count": 22,
   "id": "fe076829",
   "metadata": {},
   "outputs": [
    {
     "name": "stdout",
     "output_type": "stream",
     "text": [
      "Labels for testing dataset:\n",
      " 0    5955\n",
      "1     438\n",
      "Name: label, dtype: int64 \n",
      "\n",
      "Labels for training dataset:\n",
      " 0    23765\n",
      "1     1804\n",
      "Name: label, dtype: int64\n"
     ]
    }
   ],
   "source": [
    "print(\"Labels for testing dataset:\\n\",test.label.value_counts(),\"\\n\")\n",
    "print(\"Labels for training dataset:\\n\",train.label.value_counts())"
   ]
  },
  {
   "cell_type": "markdown",
   "id": "03bbe8c3",
   "metadata": {},
   "source": [
    "Now, for the balancing, we start by dividing the training data into the different classes."
   ]
  },
  {
   "cell_type": "code",
   "execution_count": 23,
   "id": "2ab667e7",
   "metadata": {},
   "outputs": [],
   "source": [
    "normal = train[train.label==0]\n",
    "violent = train[train.label==1]"
   ]
  },
  {
   "cell_type": "code",
   "execution_count": 24,
   "id": "816f112d",
   "metadata": {},
   "outputs": [],
   "source": [
    "normal_underSampled = resample(normal, #we will resample the normal tweets\n",
    "                              replace = False, #we set replacement to false, since we are downsizing the data, is better to avoid repeating the observations\n",
    "                               n_samples = len(violent), #we match the new sample to the length of the violent sample\n",
    "                               random_state = 1) # we keep reproducible results"
   ]
  },
  {
   "cell_type": "code",
   "execution_count": 25,
   "id": "e12f62ea",
   "metadata": {},
   "outputs": [
    {
     "name": "stdout",
     "output_type": "stream",
     "text": [
      "New labels for training dataset:\n",
      " 1    1804\n",
      "0    1804\n",
      "Name: label, dtype: int64\n"
     ]
    }
   ],
   "source": [
    "train = pd.concat([violent, normal_underSampled])\n",
    "print(\"New labels for training dataset:\\n\",train.label.value_counts())"
   ]
  },
  {
   "cell_type": "markdown",
   "id": "f256c8b5",
   "metadata": {},
   "source": [
    "Now that the datasets are balanced, they will be transformed into lists so they can be used as parameters for the vectorizer. \n",
    "\n",
    "The labels are separated from the tweets."
   ]
  },
  {
   "cell_type": "code",
   "execution_count": 26,
   "id": "1bc78bdf",
   "metadata": {},
   "outputs": [],
   "source": [
    "train_x = list(train[\"processed_tweet\"])\n",
    "test_x = list(test[\"processed_tweet\"])\n",
    "\n",
    "train_y = list(train[\"label\"])\n",
    "test_y = list(test[\"label\"])"
   ]
  },
  {
   "cell_type": "markdown",
   "id": "50d62003",
   "metadata": {},
   "source": [
    "Now a vectorizer will be fit using a dictionary of 5.000 words. It will be fit using the training data set and then will be used to transform the test dataset."
   ]
  },
  {
   "cell_type": "code",
   "execution_count": 27,
   "id": "adc58a2c",
   "metadata": {},
   "outputs": [],
   "source": [
    "vocabulary_size = 5000\n",
    "vectorizer = CountVectorizer(max_features=vocabulary_size)\n",
    "features_train = vectorizer.fit_transform(train_x).toarray()\n",
    "features_test = vectorizer.transform(test_x).toarray()\n",
    "vocabulary = vectorizer.vocabulary_"
   ]
  },
  {
   "cell_type": "code",
   "execution_count": 28,
   "id": "19ec8c77",
   "metadata": {},
   "outputs": [],
   "source": [
    "train_x = features_train #Now the train and test dataframes X are not processed tweets by arrays of numbers. \n",
    "test_x = features_test"
   ]
  },
  {
   "cell_type": "markdown",
   "id": "318e83dd",
   "metadata": {},
   "source": [
    "A validation set will be created out of the training set so it can be passed to the algorithm in sagemaker. "
   ]
  },
  {
   "cell_type": "code",
   "execution_count": 29,
   "id": "ad3c0bc3",
   "metadata": {},
   "outputs": [],
   "source": [
    "len_val = int(len(train_x)*0.2) #the length of the validation dataset will be 20% of that of the whole training set.\n",
    "\n",
    "val_x = pd.DataFrame(train_x[:len_val])\n",
    "train_x = pd.DataFrame(train_x[len_val:])\n",
    "\n",
    "val_y = pd.DataFrame(train_y[:len_val])\n",
    "train_y = pd.DataFrame(train_y[len_val:])"
   ]
  },
  {
   "cell_type": "markdown",
   "id": "71418991",
   "metadata": {},
   "source": [
    "A first directory will be created for data prepared. Several will be done with different balancing techniques."
   ]
  },
  {
   "cell_type": "code",
   "execution_count": 30,
   "id": "42395cd9",
   "metadata": {},
   "outputs": [],
   "source": [
    "version = \"underSample\" #this version is the undersampled."
   ]
  },
  {
   "cell_type": "code",
   "execution_count": 31,
   "id": "43a2320a",
   "metadata": {},
   "outputs": [],
   "source": [
    "data_dir = f\"data_prepared_{version}\" #a new folder will be created keeping in mind the version of the different balancing of the data.\n",
    "if not os.path.exists(data_dir):\n",
    "    os.makedirs(data_dir)"
   ]
  },
  {
   "cell_type": "code",
   "execution_count": 32,
   "id": "67fb6272",
   "metadata": {},
   "outputs": [],
   "source": [
    "#all data frames will be saved in the newly created folder.\n",
    "\n",
    "pd.DataFrame(test_x).to_csv(os.path.join(data_dir, 'test.csv'), header=False, index=False) \n",
    "pd.DataFrame(test_y).to_csv(os.path.join(data_dir, 'test_y.csv'), header=False, index=False)\n",
    "\n",
    "pd.concat([val_y, val_x], axis=1).to_csv(os.path.join(data_dir, 'validation.csv'), header=False, index=False)\n",
    "pd.concat([train_y, train_x], axis=1).to_csv(os.path.join(data_dir, 'train.csv'), header=False, index=False)"
   ]
  },
  {
   "cell_type": "code",
   "execution_count": 33,
   "id": "a72ac9e6",
   "metadata": {},
   "outputs": [],
   "source": [
    "test_X = train_X = val_X = train_y = val_y = None \n",
    "#given the amount of resources the dataframes take, it is a good idea to delete them from the Ram after they have been permanently saved."
   ]
  },
  {
   "cell_type": "markdown",
   "id": "bf5f3804",
   "metadata": {},
   "source": [
    "Finally, the training and validation as well as the test (the X part) will be ppload the data to S3 storage. From there they are to be called to be used in the training of the model."
   ]
  },
  {
   "cell_type": "code",
   "execution_count": 34,
   "id": "6bf4284c",
   "metadata": {},
   "outputs": [],
   "source": [
    "import sagemaker #The sagemaker module will be used to upload the data to s3.\n",
    "\n",
    "session = sagemaker.Session() # Store the current SageMaker session\n",
    "\n",
    "# S3 prefix (which folder will we use)\n",
    "prefix = f'twitter_sentiment_{version}'\n",
    "\n",
    "#the location of the information inside of S3 is saved so it can be referenced later. It is saved as string at the same time as is uploaded.\n",
    "test_location = session.upload_data(os.path.join(data_dir, 'test.csv'), key_prefix=prefix) \n",
    "val_location = session.upload_data(os.path.join(data_dir, 'validation.csv'), key_prefix=prefix)\n",
    "train_location = session.upload_data(os.path.join(data_dir, 'train.csv'), key_prefix=prefix)\n",
    "\n",
    "\n",
    "locations = \"%s = {'test': '%s','train': '%s','val':'%s'}\" % (version,test_location,train_location,val_location) #creating a text for a definition of a variable in python\n",
    "\n",
    "with open(\"data/s3_folders.py\", \"a+\") as file:\n",
    "    file.write(locations)\n",
    "    file.write(\"\\n\")"
   ]
  },
  {
   "cell_type": "markdown",
   "id": "729aacec",
   "metadata": {},
   "source": [
    "### 3. OverSampling technique."
   ]
  },
  {
   "cell_type": "code",
   "execution_count": 35,
   "id": "7f39770d",
   "metadata": {},
   "outputs": [],
   "source": [
    "train, test = train_test_split(data, test_size=0.2, random_state = 1) #control the random sampling to get reproductible results. \n",
    "#We will be using the same distribution of data so we can control for the balancing techniques not to be biased by using different data sets. "
   ]
  },
  {
   "cell_type": "code",
   "execution_count": 36,
   "id": "ab238196",
   "metadata": {},
   "outputs": [
    {
     "name": "stdout",
     "output_type": "stream",
     "text": [
      "Labels for testing dataset:\n",
      " 0    5955\n",
      "1     438\n",
      "Name: label, dtype: int64 \n",
      "\n",
      "Labels for training dataset:\n",
      " 0    23765\n",
      "1     1804\n",
      "Name: label, dtype: int64\n"
     ]
    }
   ],
   "source": [
    "print(\"Labels for testing dataset:\\n\",test.label.value_counts(),\"\\n\")\n",
    "print(\"Labels for training dataset:\\n\",train.label.value_counts())"
   ]
  },
  {
   "cell_type": "markdown",
   "id": "d4017553",
   "metadata": {},
   "source": [
    "Now, for the balancing, we start by dividing the training data into the different classes."
   ]
  },
  {
   "cell_type": "code",
   "execution_count": 37,
   "id": "58894c48",
   "metadata": {},
   "outputs": [],
   "source": [
    "normal = train[train.label==0]\n",
    "violent = train[train.label==1]"
   ]
  },
  {
   "cell_type": "code",
   "execution_count": 38,
   "id": "0f85201d",
   "metadata": {},
   "outputs": [],
   "source": [
    "violent_overSampled = resample(violent, #we will resample the violent tweets\n",
    "                              replace = True, #we set replacement to False, since we need to resample several times the same observations\n",
    "                               n_samples = len(normal), #we match the new sample to the length of the normal sample\n",
    "                               random_state = 1) # we keep reproducible results"
   ]
  },
  {
   "cell_type": "code",
   "execution_count": 39,
   "id": "f6d36958",
   "metadata": {},
   "outputs": [
    {
     "name": "stdout",
     "output_type": "stream",
     "text": [
      "New labels for training dataset:\n",
      " 1    23765\n",
      "0    23765\n",
      "Name: label, dtype: int64\n"
     ]
    }
   ],
   "source": [
    "train = pd.concat([normal, violent_overSampled])\n",
    "print(\"New labels for training dataset:\\n\",train.label.value_counts())"
   ]
  },
  {
   "cell_type": "markdown",
   "id": "73fc3c5a",
   "metadata": {},
   "source": [
    "Now that the datasets are balanced, they will be transformed into lists so they can be used as parameters for the vectorizer. \n",
    "\n",
    "The labels are separated from the tweets."
   ]
  },
  {
   "cell_type": "code",
   "execution_count": 40,
   "id": "37337b19",
   "metadata": {},
   "outputs": [],
   "source": [
    "train_x = list(train[\"processed_tweet\"])\n",
    "test_x = list(test[\"processed_tweet\"])\n",
    "\n",
    "train_y = list(train[\"label\"])\n",
    "test_y = list(test[\"label\"])"
   ]
  },
  {
   "cell_type": "markdown",
   "id": "89e3195b",
   "metadata": {},
   "source": [
    "Now a vectorizer will be fit using a dictionary of 5.000 words. It will be fit using the training data set and then will be used to transform the test dataset."
   ]
  },
  {
   "cell_type": "code",
   "execution_count": 41,
   "id": "a8061069",
   "metadata": {},
   "outputs": [],
   "source": [
    "vocabulary_size = 5000\n",
    "vectorizer = CountVectorizer(max_features=vocabulary_size)\n",
    "features_train = vectorizer.fit_transform(train_x).toarray()\n",
    "features_test = vectorizer.transform(test_x).toarray()\n",
    "vocabulary = vectorizer.vocabulary_"
   ]
  },
  {
   "cell_type": "code",
   "execution_count": 42,
   "id": "578a3ec7",
   "metadata": {},
   "outputs": [],
   "source": [
    "train_x = features_train #Now the train and test dataframes X are not processed tweets by arrays of numbers. \n",
    "test_x = features_test"
   ]
  },
  {
   "cell_type": "markdown",
   "id": "dd3e1201",
   "metadata": {},
   "source": [
    "A validation set will be created out of the training set so it can be passed to the algorithm in sagemaker. "
   ]
  },
  {
   "cell_type": "code",
   "execution_count": 43,
   "id": "4e718a3e",
   "metadata": {},
   "outputs": [],
   "source": [
    "len_val = int(len(train_x)*0.2) #the length of the validation dataset will be 20% of that of the whole training set.\n",
    "\n",
    "val_x = pd.DataFrame(train_x[:len_val])\n",
    "train_x = pd.DataFrame(train_x[len_val:])\n",
    "\n",
    "val_y = pd.DataFrame(train_y[:len_val])\n",
    "train_y = pd.DataFrame(train_y[len_val:])"
   ]
  },
  {
   "cell_type": "markdown",
   "id": "aa09b9ed",
   "metadata": {},
   "source": [
    "A first directory will be created for data prepared. Several will be done with different balancing techniques."
   ]
  },
  {
   "cell_type": "code",
   "execution_count": 44,
   "id": "ead427c9",
   "metadata": {},
   "outputs": [],
   "source": [
    "version = \"overSample\" #this version is the oversampled."
   ]
  },
  {
   "cell_type": "code",
   "execution_count": 45,
   "id": "4389a175",
   "metadata": {},
   "outputs": [],
   "source": [
    "data_dir = f\"data_prepared_{version}\" #a new folder will be created keeping in mind the version of the different balancing of the data.\n",
    "if not os.path.exists(data_dir):\n",
    "    os.makedirs(data_dir)"
   ]
  },
  {
   "cell_type": "code",
   "execution_count": 46,
   "id": "0e2ebc76",
   "metadata": {},
   "outputs": [],
   "source": [
    "#all data frames will be saved in the newly created folder.\n",
    "\n",
    "pd.DataFrame(test_x).to_csv(os.path.join(data_dir, 'test.csv'), header=False, index=False) \n",
    "pd.DataFrame(test_y).to_csv(os.path.join(data_dir, 'test_y.csv'), header=False, index=False)\n",
    "\n",
    "pd.concat([val_y, val_x], axis=1).to_csv(os.path.join(data_dir, 'validation.csv'), header=False, index=False)"
   ]
  },
  {
   "cell_type": "code",
   "execution_count": 47,
   "id": "33f21117",
   "metadata": {},
   "outputs": [],
   "source": [
    "pd.concat([train_y, train_x], axis=1).to_csv(os.path.join(data_dir, 'train.csv'), header=False, index=False)"
   ]
  },
  {
   "cell_type": "code",
   "execution_count": 48,
   "id": "a2593b85",
   "metadata": {},
   "outputs": [],
   "source": [
    "test_X = train_X = val_X = train_y = val_y = None \n",
    "#given the amount of resources the dataframes take, it is a good idea to delete them from the Ram after they have been permanently saved."
   ]
  },
  {
   "cell_type": "markdown",
   "id": "d35dd3b2",
   "metadata": {},
   "source": [
    "Finally, the training and validation as well as the test (the X part) will be ppload the data to S3 storage. From there they are to be called to be used in the training of the model."
   ]
  },
  {
   "cell_type": "code",
   "execution_count": 49,
   "id": "ce400f56",
   "metadata": {},
   "outputs": [],
   "source": [
    "import sagemaker #The sagemaker module will be used to upload the data to s3.\n",
    "\n",
    "session = sagemaker.Session() # Store the current SageMaker session\n",
    "\n",
    "# S3 prefix (which folder will we use)\n",
    "prefix = f'twitter_sentiment_{version}'\n",
    "\n",
    "#the location of the information inside of S3 is saved so it can be referenced later. It is saved as string at the same time as is uploaded.\n",
    "test_location = session.upload_data(os.path.join(data_dir, 'test.csv'), key_prefix=prefix) \n",
    "val_location = session.upload_data(os.path.join(data_dir, 'validation.csv'), key_prefix=prefix)\n",
    "train_location = session.upload_data(os.path.join(data_dir, 'train.csv'), key_prefix=prefix)\n",
    "\n",
    "\n",
    "locations = \"%s = {'test': '%s','train': '%s','val':'%s'}\" % (version,test_location,train_location,val_location) #creating a text for a definition of a variable in python\n",
    "\n",
    "with open(\"data/s3_folders.py\", \"a+\") as file:\n",
    "    file.write(locations)\n",
    "    file.write(\"\\n\")"
   ]
  },
  {
   "cell_type": "markdown",
   "id": "0a0e277a",
   "metadata": {},
   "source": [
    "### 4. Combined technique."
   ]
  },
  {
   "cell_type": "code",
   "execution_count": 4,
   "id": "bcdb806e",
   "metadata": {},
   "outputs": [],
   "source": [
    "train, test = train_test_split(data, test_size=0.2, random_state = 1) #control the random sampling to get reproductible results. \n",
    "#We will be using the same distribution of data so we can control for the balancing techniques not to be biased by using different data sets. "
   ]
  },
  {
   "cell_type": "code",
   "execution_count": 5,
   "id": "7bcf85df",
   "metadata": {},
   "outputs": [
    {
     "name": "stdout",
     "output_type": "stream",
     "text": [
      "Labels for testing dataset:\n",
      " 0    5955\n",
      "1     438\n",
      "Name: label, dtype: int64 \n",
      "\n",
      "Labels for training dataset:\n",
      " 0    23765\n",
      "1     1804\n",
      "Name: label, dtype: int64\n"
     ]
    }
   ],
   "source": [
    "print(\"Labels for testing dataset:\\n\",test.label.value_counts(),\"\\n\")\n",
    "print(\"Labels for training dataset:\\n\",train.label.value_counts())"
   ]
  },
  {
   "cell_type": "markdown",
   "id": "d416bd3d",
   "metadata": {},
   "source": [
    "Now, for the balancing, we start by dividing the training data into the different classes."
   ]
  },
  {
   "cell_type": "code",
   "execution_count": 6,
   "id": "c53fe8b4",
   "metadata": {},
   "outputs": [],
   "source": [
    "normal = train[train.label==0]\n",
    "violent = train[train.label==1]"
   ]
  },
  {
   "cell_type": "markdown",
   "id": "9bf0781b",
   "metadata": {},
   "source": [
    "For the \"combined\" approach we \"split the difference\" between the size of the samples. For this we find the size from getting the difference between the samples, then adding half the difference to the length of the \"violent\" class."
   ]
  },
  {
   "cell_type": "code",
   "execution_count": 7,
   "id": "ddcb9ece",
   "metadata": {},
   "outputs": [
    {
     "data": {
      "text/plain": [
       "12784"
      ]
     },
     "execution_count": 7,
     "metadata": {},
     "output_type": "execute_result"
    }
   ],
   "source": [
    "sample_size = int(len(violent) + ((len(normal)-len(violent))/2))\n",
    "sample_size"
   ]
  },
  {
   "cell_type": "code",
   "execution_count": 8,
   "id": "0a8015fc",
   "metadata": {},
   "outputs": [],
   "source": [
    "violent_overSampled = resample(violent, #we will resample the violent tweets\n",
    "                              replace = True, #we set replacement to False, since we need to resample several times the same observations\n",
    "                               n_samples = sample_size, #we match both samples\n",
    "                               random_state = 1) # we keep reproducible results\n",
    "\n",
    "normal_underSampled = resample(normal, #we will resample the normal tweets\n",
    "                              replace = False, #we set replacement to false, since we are downsizing the data, is better to avoid repeating the observations\n",
    "                               n_samples = sample_size, #we match both samples\n",
    "                               random_state = 1) # we keep reproducible results"
   ]
  },
  {
   "cell_type": "code",
   "execution_count": 9,
   "id": "84a58f28",
   "metadata": {},
   "outputs": [
    {
     "name": "stdout",
     "output_type": "stream",
     "text": [
      "New labels for training dataset:\n",
      " 1    12784\n",
      "0    12784\n",
      "Name: label, dtype: int64\n"
     ]
    }
   ],
   "source": [
    "train = pd.concat([normal_underSampled, violent_overSampled])\n",
    "print(\"New labels for training dataset:\\n\",train.label.value_counts())"
   ]
  },
  {
   "cell_type": "markdown",
   "id": "dca8bd35",
   "metadata": {},
   "source": [
    "Now that the datasets are balanced, they will be transformed into lists so they can be used as parameters for the vectorizer. \n",
    "\n",
    "The labels are separated from the tweets."
   ]
  },
  {
   "cell_type": "code",
   "execution_count": 10,
   "id": "f326f96b",
   "metadata": {},
   "outputs": [],
   "source": [
    "train_x = list(train[\"processed_tweet\"])\n",
    "test_x = list(test[\"processed_tweet\"])\n",
    "\n",
    "train_y = list(train[\"label\"])\n",
    "test_y = list(test[\"label\"])"
   ]
  },
  {
   "cell_type": "markdown",
   "id": "8bcba016",
   "metadata": {},
   "source": [
    "Now a vectorizer will be fit using a dictionary of 5.000 words. It will be fit using the training data set and then will be used to transform the test dataset."
   ]
  },
  {
   "cell_type": "code",
   "execution_count": 11,
   "id": "49641b3c",
   "metadata": {},
   "outputs": [],
   "source": [
    "vocabulary_size = 5000\n",
    "vectorizer = CountVectorizer(max_features=vocabulary_size)\n",
    "features_train = vectorizer.fit_transform(train_x).toarray()\n",
    "features_test = vectorizer.transform(test_x).toarray()\n",
    "vocabulary = vectorizer.vocabulary_"
   ]
  },
  {
   "cell_type": "markdown",
   "id": "2a971aab",
   "metadata": {},
   "source": [
    "We will save the vocabulary in a json file so it can ba accessed later to process new tweets. "
   ]
  },
  {
   "cell_type": "code",
   "execution_count": 20,
   "id": "160ece29",
   "metadata": {},
   "outputs": [],
   "source": [
    "import json\n",
    "for i in vocabulary:\n",
    "    vocabulary[i] = vocabulary[i].item()\n",
    "\n",
    "with open(\"data/vocabulary.json\", \"a+\") as file:\n",
    "    json.dump(vocabulary,file)"
   ]
  },
  {
   "cell_type": "code",
   "execution_count": 58,
   "id": "38ea7ddc",
   "metadata": {},
   "outputs": [],
   "source": [
    "train_x = features_train #Now the train and test dataframes X are not processed tweets by arrays of numbers. \n",
    "test_x = features_test"
   ]
  },
  {
   "cell_type": "markdown",
   "id": "093395a6",
   "metadata": {},
   "source": [
    "A validation set will be created out of the training set so it can be passed to the algorithm in sagemaker. "
   ]
  },
  {
   "cell_type": "code",
   "execution_count": 59,
   "id": "c46d2ba6",
   "metadata": {},
   "outputs": [],
   "source": [
    "len_val = int(len(train_x)*0.2) #the length of the validation dataset will be 20% of that of the whole training set.\n",
    "\n",
    "val_x = pd.DataFrame(train_x[:len_val])\n",
    "train_x = pd.DataFrame(train_x[len_val:])\n",
    "\n",
    "val_y = pd.DataFrame(train_y[:len_val])\n",
    "train_y = pd.DataFrame(train_y[len_val:])"
   ]
  },
  {
   "cell_type": "markdown",
   "id": "09fd1c3a",
   "metadata": {},
   "source": [
    "A first directory will be created for data prepared. Several will be done with different balancing techniques."
   ]
  },
  {
   "cell_type": "code",
   "execution_count": 60,
   "id": "fdf84083",
   "metadata": {},
   "outputs": [],
   "source": [
    "version = \"combined\" #this version is the oversampled."
   ]
  },
  {
   "cell_type": "code",
   "execution_count": 61,
   "id": "b9189c83",
   "metadata": {},
   "outputs": [],
   "source": [
    "data_dir = f\"data_prepared_{version}\" #a new folder will be created keeping in mind the version of the different balancing of the data.\n",
    "if not os.path.exists(data_dir):\n",
    "    os.makedirs(data_dir)"
   ]
  },
  {
   "cell_type": "code",
   "execution_count": 62,
   "id": "9854ee9c",
   "metadata": {},
   "outputs": [],
   "source": [
    "#all data frames will be saved in the newly created folder.\n",
    "\n",
    "pd.DataFrame(test_x).to_csv(os.path.join(data_dir, 'test.csv'), header=False, index=False) \n",
    "pd.DataFrame(test_y).to_csv(os.path.join(data_dir, 'test_y.csv'), header=False, index=False)\n",
    "\n",
    "pd.concat([val_y, val_x], axis=1).to_csv(os.path.join(data_dir, 'validation.csv'), header=False, index=False)"
   ]
  },
  {
   "cell_type": "code",
   "execution_count": 63,
   "id": "6b09fc98",
   "metadata": {},
   "outputs": [],
   "source": [
    "pd.concat([train_y, train_x], axis=1).to_csv(os.path.join(data_dir, 'train.csv'), header=False, index=False)"
   ]
  },
  {
   "cell_type": "code",
   "execution_count": 64,
   "id": "ae8f8742",
   "metadata": {},
   "outputs": [],
   "source": [
    "test_X = train_X = val_X = train_y = val_y = None \n",
    "#given the amount of resources the dataframes take, it is a good idea to delete them from the Ram after they have been permanently saved."
   ]
  },
  {
   "cell_type": "markdown",
   "id": "58bee9cc",
   "metadata": {},
   "source": [
    "Finally, the training and validation as well as the test (the X part) will be ppload the data to S3 storage. From there they are to be called to be used in the training of the model."
   ]
  },
  {
   "cell_type": "code",
   "execution_count": 65,
   "id": "9977ec0f",
   "metadata": {},
   "outputs": [],
   "source": [
    "import sagemaker #The sagemaker module will be used to upload the data to s3.\n",
    "\n",
    "session = sagemaker.Session() # Store the current SageMaker session\n",
    "\n",
    "# S3 prefix (which folder will we use)\n",
    "prefix = f'twitter_sentiment_{version}'\n",
    "\n",
    "#the location of the information inside of S3 is saved so it can be referenced later. It is saved as string at the same time as is uploaded.\n",
    "test_location = session.upload_data(os.path.join(data_dir, 'test.csv'), key_prefix=prefix) \n",
    "val_location = session.upload_data(os.path.join(data_dir, 'validation.csv'), key_prefix=prefix)\n",
    "train_location = session.upload_data(os.path.join(data_dir, 'train.csv'), key_prefix=prefix)\n",
    "\n",
    "\n",
    "locations = \"%s = {'test': '%s','train': '%s','val':'%s'}\" % (version,test_location,train_location,val_location) #creating a text for a definition of a variable in python\n",
    "\n",
    "with open(\"data/s3_folders.py\", \"a+\") as file:\n",
    "    file.write(locations)\n",
    "    file.write(\"\\n\")"
   ]
  }
 ],
 "metadata": {
  "kernelspec": {
   "display_name": "conda_amazonei_mxnet_p36",
   "language": "python",
   "name": "conda_amazonei_mxnet_p36"
  },
  "language_info": {
   "codemirror_mode": {
    "name": "ipython",
    "version": 3
   },
   "file_extension": ".py",
   "mimetype": "text/x-python",
   "name": "python",
   "nbconvert_exporter": "python",
   "pygments_lexer": "ipython3",
   "version": "3.6.13"
  }
 },
 "nbformat": 4,
 "nbformat_minor": 5
}
