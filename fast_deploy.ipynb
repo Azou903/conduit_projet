{
 "cells": [
  {
   "cell_type": "code",
   "execution_count": 1,
   "id": "1b875e5a",
   "metadata": {},
   "outputs": [],
   "source": [
    "import sagemaker"
   ]
  },
  {
   "cell_type": "code",
   "execution_count": 2,
   "id": "b9c4a2e3",
   "metadata": {},
   "outputs": [
    {
     "name": "stdout",
     "output_type": "stream",
     "text": [
      "xgboost-2022-04-16-12-09-31-972\n"
     ]
    }
   ],
   "source": [
    "import json\n",
    "with open(\"data/training_job_AWS.json\",\"r\") as file:\n",
    "    training_job = json.load(file)\n",
    "    training_job = training_job[\"training_job\"]\n",
    "\n",
    "print(training_job)"
   ]
  },
  {
   "cell_type": "code",
   "execution_count": 3,
   "id": "6cd278e8",
   "metadata": {},
   "outputs": [
    {
     "name": "stdout",
     "output_type": "stream",
     "text": [
      "\n",
      "2022-04-16 12:28:31 Starting - Preparing the instances for training\n",
      "2022-04-16 12:28:31 Downloading - Downloading input data\n",
      "2022-04-16 12:28:31 Training - Training image download completed. Training in progress.\n",
      "2022-04-16 12:28:31 Uploading - Uploading generated training model\n",
      "2022-04-16 12:28:31 Completed - Training job completed\n"
     ]
    }
   ],
   "source": [
    "xgb_combined = sagemaker.estimator.Estimator.attach(training_job)"
   ]
  },
  {
   "cell_type": "code",
   "execution_count": 6,
   "id": "fa8e6cf5",
   "metadata": {},
   "outputs": [
    {
     "name": "stdout",
     "output_type": "stream",
     "text": [
      "------!"
     ]
    }
   ],
   "source": [
    "xgb_combined_predictor = xgb_combined.deploy(initial_instance_count = 1, instance_type = 'ml.m4.xlarge',endpoint_name = \"twitter-sentiment-endpoint\") #we set our own endpoint name"
   ]
  },
  {
   "cell_type": "code",
   "execution_count": 7,
   "id": "122accc0",
   "metadata": {},
   "outputs": [],
   "source": [
    "xgb_combined_predictor.delete_endpoint()"
   ]
  }
 ],
 "metadata": {
  "kernelspec": {
   "display_name": "conda_amazonei_mxnet_p36",
   "language": "python",
   "name": "conda_amazonei_mxnet_p36"
  },
  "language_info": {
   "codemirror_mode": {
    "name": "ipython",
    "version": 3
   },
   "file_extension": ".py",
   "mimetype": "text/x-python",
   "name": "python",
   "nbconvert_exporter": "python",
   "pygments_lexer": "ipython3",
   "version": "3.6.13"
  }
 },
 "nbformat": 4,
 "nbformat_minor": 5
}
