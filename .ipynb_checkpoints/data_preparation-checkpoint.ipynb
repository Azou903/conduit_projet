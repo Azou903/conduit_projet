{
 "cells": [
  {
   "cell_type": "markdown",
   "id": "8b2a47f7",
   "metadata": {},
   "source": [
    "# Imports"
   ]
  },
  {
   "cell_type": "markdown",
   "id": "57930cd8",
   "metadata": {},
   "source": [
    "We import all libraries."
   ]
  },
  {
   "cell_type": "code",
   "execution_count": 2,
   "id": "214ff531",
   "metadata": {},
   "outputs": [],
   "source": [
    "from sklearn.utils import shuffle, resample\n",
    "import numpy as np\n",
    "from sklearn.feature_extraction.text import CountVectorizer\n",
    "from sklearn.model_selection import train_test_split\n",
    "import joblib\n",
    "import pandas as pd\n",
    "import os"
   ]
  },
  {
   "cell_type": "markdown",
   "id": "73760e9e",
   "metadata": {},
   "source": [
    "# Data preparation"
   ]
  },
  {
   "cell_type": "markdown",
   "id": "a5489e76",
   "metadata": {},
   "source": [
    "For the model to be used, a vectorization of the tweets will be done. This because the argorithm to be used does not work with words but with matrices.\n",
    "A Countvectorizer will be performed. For this to be, the data will be split into train and testing. Right after, the vectorizer will be performed using the training set, for then transform the test set using the dictionary created by the training set. \n",
    "For the Vectorizer to be performed, the train and test data set need to be lists of words. \n",
    "\n",
    "First the data that has already been cleaned in the exploration step is loaded."
   ]
  },
  {
   "cell_type": "code",
   "execution_count": 3,
   "id": "e3ecd3c2",
   "metadata": {},
   "outputs": [],
   "source": [
    "data=pd.read_csv(\"data/processed_train.csv\")"
   ]
  },
  {
   "cell_type": "code",
   "execution_count": 4,
   "id": "c6a71fe2",
   "metadata": {},
   "outputs": [],
   "source": [
    "data = shuffle(data,random_state =1) #data will be randomly shuffled so then when resampling the data it can be "
   ]
  },
  {
   "cell_type": "markdown",
   "id": "0abea33c",
   "metadata": {},
   "source": [
    "### 1. Not balancing the data"
   ]
  },
  {
   "cell_type": "markdown",
   "id": "81ecb31a",
   "metadata": {},
   "source": [
    "Splitting the data into train and test datasets."
   ]
  },
  {
   "cell_type": "code",
   "execution_count": 20,
   "id": "ff41fd67",
   "metadata": {},
   "outputs": [],
   "source": [
    "train, test = train_test_split(data, test_size=0.2, random_state = 1) #control the random sampling to get reproductible results. \n",
    "#We will be using the same distribution of data so we can control for the balancing techniques not to be biased by using different data sets. "
   ]
  },
  {
   "cell_type": "code",
   "execution_count": 21,
   "id": "b38e9ddf",
   "metadata": {},
   "outputs": [
    {
     "name": "stdout",
     "output_type": "stream",
     "text": [
      "Labels for testing dataset:\n",
      " 0    5916\n",
      "1     477\n",
      "Name: label, dtype: int64 \n",
      "\n",
      "Labels for training dataset:\n",
      " 0    23804\n",
      "1     1765\n",
      "Name: label, dtype: int64\n"
     ]
    }
   ],
   "source": [
    "print(\"Labels for testing dataset:\\n\",test.label.value_counts(),\"\\n\")\n",
    "print(\"Labels for training dataset:\\n\",train.label.value_counts())"
   ]
  },
  {
   "cell_type": "markdown",
   "id": "3003dd60",
   "metadata": {},
   "source": [
    "Now the datasets will be transformed into lists so they can be used as parameters for the vectorizer. \n",
    "\n",
    "The labels are separated from the tweets."
   ]
  },
  {
   "cell_type": "code",
   "execution_count": 22,
   "id": "6e0238d3",
   "metadata": {},
   "outputs": [],
   "source": [
    "train_x = list(train[\"processed_tweet\"])\n",
    "test_x = list(test[\"processed_tweet\"])\n",
    "\n",
    "train_y = list(train[\"label\"])\n",
    "test_y = list(test[\"label\"])"
   ]
  },
  {
   "cell_type": "markdown",
   "id": "75daab6b",
   "metadata": {},
   "source": [
    "Now a vectorizer will be fit using a dictionary of 5.000 words. It will be fit using the training data set and then will be used to transform the test dataset."
   ]
  },
  {
   "cell_type": "code",
   "execution_count": 23,
   "id": "047409a5",
   "metadata": {},
   "outputs": [],
   "source": [
    "vocabulary_size = 5000\n",
    "vectorizer = CountVectorizer(max_features=vocabulary_size)\n",
    "features_train = vectorizer.fit_transform(train_x).toarray()\n",
    "features_test = vectorizer.transform(test_x).toarray()\n",
    "vocabulary = vectorizer.vocabulary_"
   ]
  },
  {
   "cell_type": "code",
   "execution_count": 24,
   "id": "9ad28083",
   "metadata": {},
   "outputs": [],
   "source": [
    "train_x = features_train #Now the train and test dataframes X are not processed tweets by arrays of numbers. \n",
    "test_x = features_test"
   ]
  },
  {
   "cell_type": "markdown",
   "id": "b5323df9",
   "metadata": {},
   "source": [
    "A validation set will be created out of the training set so it can be passed to the algorithm in sagemaker. "
   ]
  },
  {
   "cell_type": "code",
   "execution_count": 25,
   "id": "cb414e69",
   "metadata": {},
   "outputs": [],
   "source": [
    "len_val = int(len(train_x)*0.2) #the length of the validation dataset will be 20% of that of the whole training set.\n",
    "\n",
    "val_x = pd.DataFrame(train_x[:len_val])\n",
    "train_x = pd.DataFrame(train_x[len_val:])\n",
    "\n",
    "val_y = pd.DataFrame(train_y[:len_val])\n",
    "train_y = pd.DataFrame(train_y[len_val:])"
   ]
  },
  {
   "cell_type": "markdown",
   "id": "e5585cc3",
   "metadata": {},
   "source": [
    "A first directory will be created for data prepared. Several will be done with different balancing techniques."
   ]
  },
  {
   "cell_type": "code",
   "execution_count": 26,
   "id": "1ed49fb1",
   "metadata": {},
   "outputs": [],
   "source": [
    "version = \"unbalanced\""
   ]
  },
  {
   "cell_type": "code",
   "execution_count": 27,
   "id": "40164ab5",
   "metadata": {},
   "outputs": [],
   "source": [
    "data_dir = f\"data_prepared_{version}\" #a new folder will be created keeping in mind the version of the different balancing of the data.\n",
    "if not os.path.exists(data_dir):\n",
    "    os.makedirs(data_dir)"
   ]
  },
  {
   "cell_type": "code",
   "execution_count": 28,
   "id": "59168717",
   "metadata": {},
   "outputs": [],
   "source": [
    "#all data frames will be saved in the newly created folder.\n",
    "\n",
    "pd.DataFrame(test_x).to_csv(os.path.join(data_dir, 'test.csv'), header=False, index=False) \n",
    "pd.DataFrame(test_y).to_csv(os.path.join(data_dir, 'test_y.csv'), header=False, index=False)\n",
    "\n",
    "pd.concat([val_y, val_x], axis=1).to_csv(os.path.join(data_dir, 'validation.csv'), header=False, index=False)\n",
    "pd.concat([train_y, train_x], axis=1).to_csv(os.path.join(data_dir, 'train.csv'), header=False, index=False)"
   ]
  },
  {
   "cell_type": "code",
   "execution_count": 29,
   "id": "7e346255",
   "metadata": {},
   "outputs": [],
   "source": [
    "test_X = train_X = val_X = train_y = val_y = None \n",
    "#given the amount of resources the dataframes take, it is a good idea to delete them from the Ram after they have been permanently saved."
   ]
  },
  {
   "cell_type": "markdown",
   "id": "884df598",
   "metadata": {},
   "source": [
    "Finally, the training and validation as well as the test (the X part) will be ppload the data to S3 storage. From there they are to be called to be used in the training of the model."
   ]
  },
  {
   "cell_type": "code",
   "execution_count": 30,
   "id": "0369f8ed",
   "metadata": {},
   "outputs": [],
   "source": [
    "import sagemaker #The sagemaker module will be used to upload the data to s3.\n",
    "\n",
    "session = sagemaker.Session() # Store the current SageMaker session\n",
    "\n",
    "# S3 prefix (which folder will we use)\n",
    "prefix = f'twitter_sentiment_{version}'\n",
    "\n",
    "#the location of the information inside of S3 is saved so it can be referenced later. It is saved as string at the same time as is uploaded.\n",
    "test_location = session.upload_data(os.path.join(data_dir, 'test.csv'), key_prefix=prefix) \n",
    "val_location = session.upload_data(os.path.join(data_dir, 'validation.csv'), key_prefix=prefix)\n",
    "train_location = session.upload_data(os.path.join(data_dir, 'train.csv'), key_prefix=prefix)\n",
    "\n",
    "#The location for all the data is permanently saved as a file inside the folder so it can be accessed by other modules.\n",
    "locations = \"%s = {'test': '%s','train': '%s','val':'%s'}\" % (version,test_location,train_location,val_location) #creating a text for a definition of a variable in python\n",
    "\n",
    "with open(\"data/s3_folders.py\", \"a+\") as file:\n",
    "    file.write(locations)\n",
    "    file.write(\"\\n\")"
   ]
  },
  {
   "cell_type": "markdown",
   "id": "5aec098f",
   "metadata": {},
   "source": [
    "### 2. Undersampling technique."
   ]
  },
  {
   "cell_type": "code",
   "execution_count": 31,
   "id": "0a5cfcbd",
   "metadata": {},
   "outputs": [],
   "source": [
    "train, test = train_test_split(data, test_size=0.2, random_state = 1) #control the random sampling to get reproductible results. \n",
    "#We will be using the same distribution of data so we can control for the balancing techniques not to be biased by using different data sets. "
   ]
  },
  {
   "cell_type": "code",
   "execution_count": 32,
   "id": "049878b5",
   "metadata": {},
   "outputs": [
    {
     "name": "stdout",
     "output_type": "stream",
     "text": [
      "Labels for testing dataset:\n",
      " 0    5916\n",
      "1     477\n",
      "Name: label, dtype: int64 \n",
      "\n",
      "Labels for training dataset:\n",
      " 0    23804\n",
      "1     1765\n",
      "Name: label, dtype: int64\n"
     ]
    }
   ],
   "source": [
    "print(\"Labels for testing dataset:\\n\",test.label.value_counts(),\"\\n\")\n",
    "print(\"Labels for training dataset:\\n\",train.label.value_counts())"
   ]
  },
  {
   "cell_type": "markdown",
   "id": "3bf12885",
   "metadata": {},
   "source": [
    "Now, for the balancing, we start by dividing the training data into the different classes."
   ]
  },
  {
   "cell_type": "code",
   "execution_count": 33,
   "id": "26b88e53",
   "metadata": {},
   "outputs": [],
   "source": [
    "normal = train[train.label==0]\n",
    "violent = train[train.label==1]"
   ]
  },
  {
   "cell_type": "code",
   "execution_count": 34,
   "id": "3077fdc7",
   "metadata": {},
   "outputs": [],
   "source": [
    "normal_underSampled = resample(normal, #we will resample the normal tweets\n",
    "                              replace = False, #we set replacement to false, since we are downsizing the data, is better to avoid repeating the observations\n",
    "                               n_samples = len(violent), #we match the new sample to the length of the violent sample\n",
    "                               random_state = 1) # we keep reproducible results"
   ]
  },
  {
   "cell_type": "code",
   "execution_count": 35,
   "id": "ce3dc647",
   "metadata": {},
   "outputs": [
    {
     "name": "stdout",
     "output_type": "stream",
     "text": [
      "New labels for training dataset:\n",
      " 1    1765\n",
      "0    1765\n",
      "Name: label, dtype: int64\n"
     ]
    }
   ],
   "source": [
    "train = pd.concat([violent, normal_underSampled])\n",
    "print(\"New labels for training dataset:\\n\",train.label.value_counts())"
   ]
  },
  {
   "cell_type": "markdown",
   "id": "4c47db24",
   "metadata": {},
   "source": [
    "Now that the datasets are balanced, they will be transformed into lists so they can be used as parameters for the vectorizer. \n",
    "\n",
    "The labels are separated from the tweets."
   ]
  },
  {
   "cell_type": "code",
   "execution_count": 36,
   "id": "55dfbfdf",
   "metadata": {},
   "outputs": [],
   "source": [
    "train_x = list(train[\"processed_tweet\"])\n",
    "test_x = list(test[\"processed_tweet\"])\n",
    "\n",
    "train_y = list(train[\"label\"])\n",
    "test_y = list(test[\"label\"])"
   ]
  },
  {
   "cell_type": "markdown",
   "id": "809171d1",
   "metadata": {},
   "source": [
    "Now a vectorizer will be fit using a dictionary of 5.000 words. It will be fit using the training data set and then will be used to transform the test dataset."
   ]
  },
  {
   "cell_type": "code",
   "execution_count": 37,
   "id": "dd9051ab",
   "metadata": {},
   "outputs": [],
   "source": [
    "vocabulary_size = 5000\n",
    "vectorizer = CountVectorizer(max_features=vocabulary_size)\n",
    "features_train = vectorizer.fit_transform(train_x).toarray()\n",
    "features_test = vectorizer.transform(test_x).toarray()\n",
    "vocabulary = vectorizer.vocabulary_"
   ]
  },
  {
   "cell_type": "code",
   "execution_count": 38,
   "id": "880d8bca",
   "metadata": {},
   "outputs": [],
   "source": [
    "train_x = features_train #Now the train and test dataframes X are not processed tweets by arrays of numbers. \n",
    "test_x = features_test"
   ]
  },
  {
   "cell_type": "markdown",
   "id": "87824aea",
   "metadata": {},
   "source": [
    "A validation set will be created out of the training set so it can be passed to the algorithm in sagemaker. "
   ]
  },
  {
   "cell_type": "code",
   "execution_count": 39,
   "id": "921ee954",
   "metadata": {},
   "outputs": [],
   "source": [
    "len_val = int(len(train_x)*0.2) #the length of the validation dataset will be 20% of that of the whole training set.\n",
    "\n",
    "val_x = pd.DataFrame(train_x[:len_val])\n",
    "train_x = pd.DataFrame(train_x[len_val:])\n",
    "\n",
    "val_y = pd.DataFrame(train_y[:len_val])\n",
    "train_y = pd.DataFrame(train_y[len_val:])"
   ]
  },
  {
   "cell_type": "markdown",
   "id": "f33a31b2",
   "metadata": {},
   "source": [
    "A first directory will be created for data prepared. Several will be done with different balancing techniques."
   ]
  },
  {
   "cell_type": "code",
   "execution_count": 40,
   "id": "4b830790",
   "metadata": {},
   "outputs": [],
   "source": [
    "version = \"underSample\" #this version is the undersampled."
   ]
  },
  {
   "cell_type": "code",
   "execution_count": 41,
   "id": "eab3cc26",
   "metadata": {},
   "outputs": [],
   "source": [
    "data_dir = f\"data_prepared_{version}\" #a new folder will be created keeping in mind the version of the different balancing of the data.\n",
    "if not os.path.exists(data_dir):\n",
    "    os.makedirs(data_dir)"
   ]
  },
  {
   "cell_type": "code",
   "execution_count": 42,
   "id": "98b3a27a",
   "metadata": {},
   "outputs": [],
   "source": [
    "#all data frames will be saved in the newly created folder.\n",
    "\n",
    "pd.DataFrame(test_x).to_csv(os.path.join(data_dir, 'test.csv'), header=False, index=False) \n",
    "pd.DataFrame(test_y).to_csv(os.path.join(data_dir, 'test_y.csv'), header=False, index=False)\n",
    "\n",
    "pd.concat([val_y, val_x], axis=1).to_csv(os.path.join(data_dir, 'validation.csv'), header=False, index=False)\n",
    "pd.concat([train_y, train_x], axis=1).to_csv(os.path.join(data_dir, 'train.csv'), header=False, index=False)"
   ]
  },
  {
   "cell_type": "code",
   "execution_count": 43,
   "id": "49449d3d",
   "metadata": {},
   "outputs": [],
   "source": [
    "test_X = train_X = val_X = train_y = val_y = None \n",
    "#given the amount of resources the dataframes take, it is a good idea to delete them from the Ram after they have been permanently saved."
   ]
  },
  {
   "cell_type": "markdown",
   "id": "ccafe3bf",
   "metadata": {},
   "source": [
    "Finally, the training and validation as well as the test (the X part) will be ppload the data to S3 storage. From there they are to be called to be used in the training of the model."
   ]
  },
  {
   "cell_type": "code",
   "execution_count": 44,
   "id": "5a4063be",
   "metadata": {},
   "outputs": [],
   "source": [
    "import sagemaker #The sagemaker module will be used to upload the data to s3.\n",
    "\n",
    "session = sagemaker.Session() # Store the current SageMaker session\n",
    "\n",
    "# S3 prefix (which folder will we use)\n",
    "prefix = f'twitter_sentiment_{version}'\n",
    "\n",
    "#the location of the information inside of S3 is saved so it can be referenced later. It is saved as string at the same time as is uploaded.\n",
    "test_location = session.upload_data(os.path.join(data_dir, 'test.csv'), key_prefix=prefix) \n",
    "val_location = session.upload_data(os.path.join(data_dir, 'validation.csv'), key_prefix=prefix)\n",
    "train_location = session.upload_data(os.path.join(data_dir, 'train.csv'), key_prefix=prefix)\n",
    "\n",
    "\n",
    "locations = \"%s = {'test': '%s','train': '%s','val':'%s'}\" % (version,test_location,train_location,val_location) #creating a text for a definition of a variable in python\n",
    "\n",
    "with open(\"data/s3_folders.py\", \"a+\") as file:\n",
    "    file.write(locations)\n",
    "    file.write(\"\\n\")"
   ]
  },
  {
   "cell_type": "markdown",
   "id": "b73ac583",
   "metadata": {},
   "source": [
    "### 3. OverSampling technique."
   ]
  },
  {
   "cell_type": "code",
   "execution_count": 5,
   "id": "91b3771b",
   "metadata": {},
   "outputs": [],
   "source": [
    "train, test = train_test_split(data, test_size=0.2, random_state = 1) #control the random sampling to get reproductible results. \n",
    "#We will be using the same distribution of data so we can control for the balancing techniques not to be biased by using different data sets. "
   ]
  },
  {
   "cell_type": "code",
   "execution_count": 6,
   "id": "c761a466",
   "metadata": {},
   "outputs": [
    {
     "name": "stdout",
     "output_type": "stream",
     "text": [
      "Labels for testing dataset:\n",
      " 0    5916\n",
      "1     477\n",
      "Name: label, dtype: int64 \n",
      "\n",
      "Labels for training dataset:\n",
      " 0    23804\n",
      "1     1765\n",
      "Name: label, dtype: int64\n"
     ]
    }
   ],
   "source": [
    "print(\"Labels for testing dataset:\\n\",test.label.value_counts(),\"\\n\")\n",
    "print(\"Labels for training dataset:\\n\",train.label.value_counts())"
   ]
  },
  {
   "cell_type": "markdown",
   "id": "20d9f3f5",
   "metadata": {},
   "source": [
    "Now, for the balancing, we start by dividing the training data into the different classes."
   ]
  },
  {
   "cell_type": "code",
   "execution_count": 7,
   "id": "714d1073",
   "metadata": {},
   "outputs": [],
   "source": [
    "normal = train[train.label==0]\n",
    "violent = train[train.label==1]"
   ]
  },
  {
   "cell_type": "code",
   "execution_count": 8,
   "id": "d502ab6a",
   "metadata": {},
   "outputs": [],
   "source": [
    "violent_overSampled = resample(violent, #we will resample the normal tweets\n",
    "                              replace = True, #we set replacement to False, since we need to resample several times the same observations\n",
    "                               n_samples = len(normal), #we match the new sample to the length of the normal sample\n",
    "                               random_state = 1) # we keep reproducible results"
   ]
  },
  {
   "cell_type": "code",
   "execution_count": 9,
   "id": "40bb2829",
   "metadata": {},
   "outputs": [
    {
     "name": "stdout",
     "output_type": "stream",
     "text": [
      "New labels for training dataset:\n",
      " 1    23804\n",
      "0    23804\n",
      "Name: label, dtype: int64\n"
     ]
    }
   ],
   "source": [
    "train = pd.concat([normal, violent_overSampled])\n",
    "print(\"New labels for training dataset:\\n\",train.label.value_counts())"
   ]
  },
  {
   "cell_type": "markdown",
   "id": "aba57eeb",
   "metadata": {},
   "source": [
    "Now that the datasets are balanced, they will be transformed into lists so they can be used as parameters for the vectorizer. \n",
    "\n",
    "The labels are separated from the tweets."
   ]
  },
  {
   "cell_type": "code",
   "execution_count": 10,
   "id": "ac1b2381",
   "metadata": {},
   "outputs": [],
   "source": [
    "train_x = list(train[\"processed_tweet\"])\n",
    "test_x = list(test[\"processed_tweet\"])\n",
    "\n",
    "train_y = list(train[\"label\"])\n",
    "test_y = list(test[\"label\"])"
   ]
  },
  {
   "cell_type": "markdown",
   "id": "c533a2e7",
   "metadata": {},
   "source": [
    "Now a vectorizer will be fit using a dictionary of 6.000 words. It will be fit using the training data set and then will be used to transform the test dataset."
   ]
  },
  {
   "cell_type": "code",
   "execution_count": 11,
   "id": "81c38b3c",
   "metadata": {},
   "outputs": [],
   "source": [
    "vocabulary_size = 5000\n",
    "vectorizer = CountVectorizer(max_features=vocabulary_size)\n",
    "features_train = vectorizer.fit_transform(train_x).toarray()\n",
    "features_test = vectorizer.transform(test_x).toarray()\n",
    "vocabulary = vectorizer.vocabulary_"
   ]
  },
  {
   "cell_type": "code",
   "execution_count": 12,
   "id": "10e2b7cc",
   "metadata": {},
   "outputs": [],
   "source": [
    "train_x = features_train #Now the train and test dataframes X are not processed tweets by arrays of numbers. \n",
    "test_x = features_test"
   ]
  },
  {
   "cell_type": "markdown",
   "id": "66d68851",
   "metadata": {},
   "source": [
    "A validation set will be created out of the training set so it can be passed to the algorithm in sagemaker. "
   ]
  },
  {
   "cell_type": "code",
   "execution_count": 13,
   "id": "4eb39291",
   "metadata": {},
   "outputs": [],
   "source": [
    "len_val = int(len(train_x)*0.2) #the length of the validation dataset will be 20% of that of the whole training set.\n",
    "\n",
    "val_x = pd.DataFrame(train_x[:len_val])\n",
    "train_x = pd.DataFrame(train_x[len_val:])\n",
    "\n",
    "val_y = pd.DataFrame(train_y[:len_val])\n",
    "train_y = pd.DataFrame(train_y[len_val:])"
   ]
  },
  {
   "cell_type": "markdown",
   "id": "0e4612bc",
   "metadata": {},
   "source": [
    "A first directory will be created for data prepared. Several will be done with different balancing techniques."
   ]
  },
  {
   "cell_type": "code",
   "execution_count": 14,
   "id": "0f23ef96",
   "metadata": {},
   "outputs": [],
   "source": [
    "version = \"overSample\" #this version is the oversampled."
   ]
  },
  {
   "cell_type": "code",
   "execution_count": 15,
   "id": "11553f0b",
   "metadata": {},
   "outputs": [],
   "source": [
    "data_dir = f\"data_prepared_{version}\" #a new folder will be created keeping in mind the version of the different balancing of the data.\n",
    "if not os.path.exists(data_dir):\n",
    "    os.makedirs(data_dir)"
   ]
  },
  {
   "cell_type": "code",
   "execution_count": 16,
   "id": "efdffec5",
   "metadata": {},
   "outputs": [],
   "source": [
    "#all data frames will be saved in the newly created folder.\n",
    "\n",
    "pd.DataFrame(test_x).to_csv(os.path.join(data_dir, 'test.csv'), header=False, index=False) \n",
    "pd.DataFrame(test_y).to_csv(os.path.join(data_dir, 'test_y.csv'), header=False, index=False)\n",
    "\n",
    "pd.concat([val_y, val_x], axis=1).to_csv(os.path.join(data_dir, 'validation.csv'), header=False, index=False)"
   ]
  },
  {
   "cell_type": "code",
   "execution_count": 17,
   "id": "d44f0aaf",
   "metadata": {},
   "outputs": [],
   "source": [
    "pd.concat([train_y, train_x], axis=1).to_csv(os.path.join(data_dir, 'train.csv'), header=False, index=False)"
   ]
  },
  {
   "cell_type": "code",
   "execution_count": 18,
   "id": "0038c665",
   "metadata": {},
   "outputs": [],
   "source": [
    "test_X = train_X = val_X = train_y = val_y = None \n",
    "#given the amount of resources the dataframes take, it is a good idea to delete them from the Ram after they have been permanently saved."
   ]
  },
  {
   "cell_type": "markdown",
   "id": "ea18a5e8",
   "metadata": {},
   "source": [
    "Finally, the training and validation as well as the test (the X part) will be ppload the data to S3 storage. From there they are to be called to be used in the training of the model."
   ]
  },
  {
   "cell_type": "code",
   "execution_count": 19,
   "id": "d5052ed0",
   "metadata": {},
   "outputs": [],
   "source": [
    "import sagemaker #The sagemaker module will be used to upload the data to s3.\n",
    "\n",
    "session = sagemaker.Session() # Store the current SageMaker session\n",
    "\n",
    "# S3 prefix (which folder will we use)\n",
    "prefix = f'twitter_sentiment_{version}'\n",
    "\n",
    "#the location of the information inside of S3 is saved so it can be referenced later. It is saved as string at the same time as is uploaded.\n",
    "test_location = session.upload_data(os.path.join(data_dir, 'test.csv'), key_prefix=prefix) \n",
    "val_location = session.upload_data(os.path.join(data_dir, 'validation.csv'), key_prefix=prefix)\n",
    "train_location = session.upload_data(os.path.join(data_dir, 'train.csv'), key_prefix=prefix)\n",
    "\n",
    "\n",
    "locations = \"%s = {'test': '%s','train': '%s','val':'%s'}\" % (version,test_location,train_location,val_location) #creating a text for a definition of a variable in python\n",
    "\n",
    "with open(\"data/s3_folders.py\", \"a+\") as file:\n",
    "    file.write(locations)\n",
    "    file.write(\"\\n\")"
   ]
  },
  {
   "cell_type": "markdown",
   "id": "f2c5d5b9",
   "metadata": {},
   "source": [
    "### 4. Combined technique."
   ]
  },
  {
   "cell_type": "code",
   "execution_count": 45,
   "id": "d510f8d4",
   "metadata": {},
   "outputs": [],
   "source": [
    "train, test = train_test_split(data, test_size=0.2, random_state = 1) #control the random sampling to get reproductible results. \n",
    "#We will be using the same distribution of data so we can control for the balancing techniques not to be biased by using different data sets. "
   ]
  },
  {
   "cell_type": "code",
   "execution_count": 46,
   "id": "25f5c535",
   "metadata": {},
   "outputs": [
    {
     "name": "stdout",
     "output_type": "stream",
     "text": [
      "Labels for testing dataset:\n",
      " 0    5916\n",
      "1     477\n",
      "Name: label, dtype: int64 \n",
      "\n",
      "Labels for training dataset:\n",
      " 0    23804\n",
      "1     1765\n",
      "Name: label, dtype: int64\n"
     ]
    }
   ],
   "source": [
    "print(\"Labels for testing dataset:\\n\",test.label.value_counts(),\"\\n\")\n",
    "print(\"Labels for training dataset:\\n\",train.label.value_counts())"
   ]
  },
  {
   "cell_type": "markdown",
   "id": "17dfad24",
   "metadata": {},
   "source": [
    "Now, for the balancing, we start by dividing the training data into the different classes."
   ]
  },
  {
   "cell_type": "code",
   "execution_count": 47,
   "id": "7e32434a",
   "metadata": {},
   "outputs": [],
   "source": [
    "normal = train[train.label==0]\n",
    "violent = train[train.label==1]"
   ]
  },
  {
   "cell_type": "code",
   "execution_count": null,
   "id": "6d952791",
   "metadata": {},
   "outputs": [],
   "source": [
    "sample_size = int(len(violent) + ((len(normal)-len(violent))/2))\n",
    "sample_size"
   ]
  },
  {
   "cell_type": "code",
   "execution_count": null,
   "id": "432035b7",
   "metadata": {},
   "outputs": [],
   "source": [
    "#get both samples of the same size. Save data local and to s3."
   ]
  },
  {
   "cell_type": "code",
   "execution_count": 8,
   "id": "54bca45f",
   "metadata": {},
   "outputs": [],
   "source": [
    "violent_overSampled = resample(violent, #we will resample the normal tweets\n",
    "                              replace = True, #we set replacement to False, since we need to resample several times the same observations\n",
    "                               n_samples = len(normal), #we match the new sample to the length of the normal sample\n",
    "                               random_state = 1) # we keep reproducible results"
   ]
  },
  {
   "cell_type": "code",
   "execution_count": 9,
   "id": "6e7fbb4b",
   "metadata": {},
   "outputs": [
    {
     "name": "stdout",
     "output_type": "stream",
     "text": [
      "New labels for training dataset:\n",
      " 1    23804\n",
      "0    23804\n",
      "Name: label, dtype: int64\n"
     ]
    }
   ],
   "source": [
    "train = pd.concat([normal, violent_overSampled])\n",
    "print(\"New labels for training dataset:\\n\",train.label.value_counts())"
   ]
  },
  {
   "cell_type": "markdown",
   "id": "75022923",
   "metadata": {},
   "source": [
    "Now that the datasets are balanced, they will be transformed into lists so they can be used as parameters for the vectorizer. \n",
    "\n",
    "The labels are separated from the tweets."
   ]
  },
  {
   "cell_type": "code",
   "execution_count": 10,
   "id": "bebc7377",
   "metadata": {},
   "outputs": [],
   "source": [
    "train_x = list(train[\"processed_tweet\"])\n",
    "test_x = list(test[\"processed_tweet\"])\n",
    "\n",
    "train_y = list(train[\"label\"])\n",
    "test_y = list(test[\"label\"])"
   ]
  },
  {
   "cell_type": "markdown",
   "id": "0d530ce5",
   "metadata": {},
   "source": [
    "Now a vectorizer will be fit using a dictionary of 6.000 words. It will be fit using the training data set and then will be used to transform the test dataset."
   ]
  },
  {
   "cell_type": "code",
   "execution_count": 11,
   "id": "34548df5",
   "metadata": {},
   "outputs": [],
   "source": [
    "vocabulary_size = 5000\n",
    "vectorizer = CountVectorizer(max_features=vocabulary_size)\n",
    "features_train = vectorizer.fit_transform(train_x).toarray()\n",
    "features_test = vectorizer.transform(test_x).toarray()\n",
    "vocabulary = vectorizer.vocabulary_"
   ]
  },
  {
   "cell_type": "code",
   "execution_count": 12,
   "id": "5f497d95",
   "metadata": {},
   "outputs": [],
   "source": [
    "train_x = features_train #Now the train and test dataframes X are not processed tweets by arrays of numbers. \n",
    "test_x = features_test"
   ]
  },
  {
   "cell_type": "markdown",
   "id": "778ba0bb",
   "metadata": {},
   "source": [
    "A validation set will be created out of the training set so it can be passed to the algorithm in sagemaker. "
   ]
  },
  {
   "cell_type": "code",
   "execution_count": 13,
   "id": "c8325b6c",
   "metadata": {},
   "outputs": [],
   "source": [
    "len_val = int(len(train_x)*0.2) #the length of the validation dataset will be 20% of that of the whole training set.\n",
    "\n",
    "val_x = pd.DataFrame(train_x[:len_val])\n",
    "train_x = pd.DataFrame(train_x[len_val:])\n",
    "\n",
    "val_y = pd.DataFrame(train_y[:len_val])\n",
    "train_y = pd.DataFrame(train_y[len_val:])"
   ]
  },
  {
   "cell_type": "markdown",
   "id": "a11c0136",
   "metadata": {},
   "source": [
    "A first directory will be created for data prepared. Several will be done with different balancing techniques."
   ]
  },
  {
   "cell_type": "code",
   "execution_count": 14,
   "id": "d04b3bc5",
   "metadata": {},
   "outputs": [],
   "source": [
    "version = \"overSample\" #this version is the oversampled."
   ]
  },
  {
   "cell_type": "code",
   "execution_count": 15,
   "id": "04f916e6",
   "metadata": {},
   "outputs": [],
   "source": [
    "data_dir = f\"data_prepared_{version}\" #a new folder will be created keeping in mind the version of the different balancing of the data.\n",
    "if not os.path.exists(data_dir):\n",
    "    os.makedirs(data_dir)"
   ]
  },
  {
   "cell_type": "code",
   "execution_count": 16,
   "id": "b84da284",
   "metadata": {},
   "outputs": [],
   "source": [
    "#all data frames will be saved in the newly created folder.\n",
    "\n",
    "pd.DataFrame(test_x).to_csv(os.path.join(data_dir, 'test.csv'), header=False, index=False) \n",
    "pd.DataFrame(test_y).to_csv(os.path.join(data_dir, 'test_y.csv'), header=False, index=False)\n",
    "\n",
    "pd.concat([val_y, val_x], axis=1).to_csv(os.path.join(data_dir, 'validation.csv'), header=False, index=False)"
   ]
  },
  {
   "cell_type": "code",
   "execution_count": 17,
   "id": "61904fd1",
   "metadata": {},
   "outputs": [],
   "source": [
    "pd.concat([train_y, train_x], axis=1).to_csv(os.path.join(data_dir, 'train.csv'), header=False, index=False)"
   ]
  },
  {
   "cell_type": "code",
   "execution_count": 18,
   "id": "a76a5e95",
   "metadata": {},
   "outputs": [],
   "source": [
    "test_X = train_X = val_X = train_y = val_y = None \n",
    "#given the amount of resources the dataframes take, it is a good idea to delete them from the Ram after they have been permanently saved."
   ]
  },
  {
   "cell_type": "markdown",
   "id": "33a746e1",
   "metadata": {},
   "source": [
    "Finally, the training and validation as well as the test (the X part) will be ppload the data to S3 storage. From there they are to be called to be used in the training of the model."
   ]
  },
  {
   "cell_type": "code",
   "execution_count": 19,
   "id": "8fc8efad",
   "metadata": {},
   "outputs": [],
   "source": [
    "import sagemaker #The sagemaker module will be used to upload the data to s3.\n",
    "\n",
    "session = sagemaker.Session() # Store the current SageMaker session\n",
    "\n",
    "# S3 prefix (which folder will we use)\n",
    "prefix = f'twitter_sentiment_{version}'\n",
    "\n",
    "#the location of the information inside of S3 is saved so it can be referenced later. It is saved as string at the same time as is uploaded.\n",
    "test_location = session.upload_data(os.path.join(data_dir, 'test.csv'), key_prefix=prefix) \n",
    "val_location = session.upload_data(os.path.join(data_dir, 'validation.csv'), key_prefix=prefix)\n",
    "train_location = session.upload_data(os.path.join(data_dir, 'train.csv'), key_prefix=prefix)\n",
    "\n",
    "\n",
    "locations = \"%s = {'test': '%s','train': '%s','val':'%s'}\" % (version,test_location,train_location,val_location) #creating a text for a definition of a variable in python\n",
    "\n",
    "with open(\"data/s3_folders.py\", \"a+\") as file:\n",
    "    file.write(locations)\n",
    "    file.write(\"\\n\")"
   ]
  },
  {
   "cell_type": "code",
   "execution_count": 32,
   "id": "e7560545",
   "metadata": {},
   "outputs": [],
   "source": [
    "from data import s3_folders\n",
    "\n",
    "unbalanced = s3_folders.unbalanced\n",
    "print(unbalanced)\n",
    "\n",
    "print(unbalanced[\"test\"])"
   ]
  }
 ],
 "metadata": {
  "kernelspec": {
   "display_name": "conda_amazonei_mxnet_p36",
   "language": "python",
   "name": "conda_amazonei_mxnet_p36"
  },
  "language_info": {
   "codemirror_mode": {
    "name": "ipython",
    "version": 3
   },
   "file_extension": ".py",
   "mimetype": "text/x-python",
   "name": "python",
   "nbconvert_exporter": "python",
   "pygments_lexer": "ipython3",
   "version": "3.6.13"
  }
 },
 "nbformat": 4,
 "nbformat_minor": 5
}
