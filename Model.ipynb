{
 "cells": [
  {
   "cell_type": "markdown",
   "id": "b794e0dd",
   "metadata": {},
   "source": [
    "# Imports"
   ]
  },
  {
   "cell_type": "code",
   "execution_count": 3,
   "id": "a9219dbd",
   "metadata": {},
   "outputs": [],
   "source": [
    "from sklearn.utils import shuffle\n",
    "import numpy as np\n",
    "from sklearn.feature_extraction.text import CountVectorizer\n",
    "from sklearn.model_selection import train_test_split\n",
    "import joblib\n",
    "import pandas as pd\n",
    "import os\n",
    "import sagemaker"
   ]
  },
  {
   "cell_type": "markdown",
   "id": "28cc4589",
   "metadata": {},
   "source": [
    "# Model Training "
   ]
  },
  {
   "cell_type": "markdown",
   "id": "8a613f8a",
   "metadata": {},
   "source": [
    "The model will be defined and trained using the data uploaded to S3."
   ]
  },
  {
   "cell_type": "code",
   "execution_count": 4,
   "id": "a9dffcf9",
   "metadata": {},
   "outputs": [],
   "source": [
    "from sagemaker import get_execution_role\n",
    "\n",
    "# Our current execution role is required when creating the model as the training\n",
    "# and inference code will need to access the model artifacts.\n",
    "role = get_execution_role()"
   ]
  },
  {
   "cell_type": "code",
   "execution_count": 16,
   "id": "4d11ac15",
   "metadata": {},
   "outputs": [
    {
     "name": "stdin",
     "output_type": "stream",
     "text": [
      "What version of the prepared data is it?: 1\n"
     ]
    }
   ],
   "source": [
    "version = input(\"What version of the prepared data is it?:\")"
   ]
  },
  {
   "cell_type": "code",
   "execution_count": 6,
   "id": "f08b6d9c",
   "metadata": {},
   "outputs": [],
   "source": [
    "import sagemaker\n",
    "\n",
    "session = sagemaker.Session() # Store the current SageMaker session\n",
    "\n",
    "# S3 prefix (which folder will we use)\n",
    "prefix = f'twitter_sentiment_{version}'"
   ]
  },
  {
   "cell_type": "code",
   "execution_count": 11,
   "id": "97807d39",
   "metadata": {},
   "outputs": [],
   "source": [
    "# We need to retrieve the location of the container which is provided by Amazon for using XGBoost.\n",
    "# As a matter of convenience, the training and inference code both use the same container.\n",
    "from sagemaker.image_uris import retrieve\n",
    "\n",
    "container = retrieve(framework = 'xgboost',region = session.boto_region_name, version = \"1\")"
   ]
  },
  {
   "cell_type": "code",
   "execution_count": 14,
   "id": "2b65f856",
   "metadata": {},
   "outputs": [],
   "source": [
    "# First we create a SageMaker estimator object for our model.\n",
    "xgb = sagemaker.estimator.Estimator(container, # The location of the container we wish to use\n",
    "                                    role,                                    # What is our current IAM Role\n",
    "                                    instance_count=1,                  # How many compute instances\n",
    "                                    instance_type='ml.m4.xlarge',      # What kind of compute instances\n",
    "                                    output_path='s3://{}/{}/output'.format(session.default_bucket(), prefix),\n",
    "                                    sagemaker_session=session)\n",
    "\n",
    "# And then set the algorithm specific parameters.\n",
    "xgb.set_hyperparameters(max_depth=5,\n",
    "                        eta=0.2,\n",
    "                        gamma=4,\n",
    "                        min_child_weight=6,\n",
    "                        subsample=0.8,\n",
    "                        silent=0,\n",
    "                        objective='binary:logistic',\n",
    "                        early_stopping_rounds=10,\n",
    "                        num_round=500)"
   ]
  },
  {
   "cell_type": "markdown",
   "id": "00c47121",
   "metadata": {},
   "source": [
    "### Fit the model"
   ]
  },
  {
   "cell_type": "markdown",
   "id": "b3638293",
   "metadata": {},
   "source": [
    "Set the training and validation data set on s3 to be used by sagemaker. "
   ]
  },
  {
   "cell_type": "code",
   "execution_count": 22,
   "id": "82751630",
   "metadata": {},
   "outputs": [],
   "source": [
    "import json\n",
    "with open(\"data/s3_folders.json\",\"r\") as f:\n",
    "    s3_folder = json.load(f)"
   ]
  },
  {
   "cell_type": "code",
   "execution_count": 23,
   "id": "23f6f10b",
   "metadata": {},
   "outputs": [],
   "source": [
    "test_location = s3_folder[f\"model_{version}\"][\"test\"]\n",
    "val_location = s3_folder[f\"model_{version}\"][\"val\"]\n",
    "train_location = s3_folder[f\"model_{version}\"][\"train\"]"
   ]
  },
  {
   "cell_type": "code",
   "execution_count": 29,
   "id": "7ff93879",
   "metadata": {},
   "outputs": [],
   "source": [
    "s3_input_train = sagemaker.inputs.TrainingInput(s3_data=train_location, content_type='csv')\n",
    "s3_input_validation = sagemaker.inputs.TrainingInput(s3_data=val_location, content_type='csv')"
   ]
  },
  {
   "cell_type": "code",
   "execution_count": 30,
   "id": "225e9ac6",
   "metadata": {
    "collapsed": true,
    "jupyter": {
     "outputs_hidden": true
    }
   },
   "outputs": [
    {
     "name": "stdout",
     "output_type": "stream",
     "text": [
      "2022-03-30 15:41:01 Starting - Starting the training job...\n",
      "2022-03-30 15:41:27 Starting - Preparing the instances for trainingProfilerReport-1648654860: InProgress\n",
      ".........\n",
      "2022-03-30 15:42:53 Downloading - Downloading input data......\n",
      "2022-03-30 15:43:54 Training - Training image download completed. Training in progress..\u001b[34mArguments: train\u001b[0m\n",
      "\u001b[34m[2022-03-30:15:43:57:INFO] Running standalone xgboost training.\u001b[0m\n",
      "\u001b[34m[2022-03-30:15:43:57:INFO] File size need to be processed in the node: 292.66mb. Available memory size in the node: 8489.82mb\u001b[0m\n",
      "\u001b[34m[2022-03-30:15:43:57:INFO] Determined delimiter of CSV input is ','\u001b[0m\n",
      "\u001b[34m[15:43:57] S3DistributionType set as FullyReplicated\u001b[0m\n",
      "\u001b[34m[15:44:00] 20456x6000 matrix with 122736000 entries loaded from /opt/ml/input/data/train?format=csv&label_column=0&delimiter=,\u001b[0m\n",
      "\u001b[34m[2022-03-30:15:44:00:INFO] Determined delimiter of CSV input is ','\u001b[0m\n",
      "\u001b[34m[15:44:00] S3DistributionType set as FullyReplicated\u001b[0m\n",
      "\u001b[34m[15:44:01] 5113x6000 matrix with 30678000 entries loaded from /opt/ml/input/data/validation?format=csv&label_column=0&delimiter=,\u001b[0m\n",
      "\u001b[34m[15:44:09] src/tree/updater_prune.cc:74: tree pruning end, 1 roots, 12 extra nodes, 2 pruned nodes, max_depth=5\u001b[0m\n",
      "\u001b[34m[0]#011train-error:0.060178#011validation-error:0.068649\u001b[0m\n",
      "\u001b[34mMultiple eval metrics have been passed: 'validation-error' will be used for early stopping.\u001b[0m\n",
      "\u001b[34mWill train until validation-error hasn't improved in 10 rounds.\u001b[0m\n",
      "\u001b[34m[15:44:12] src/tree/updater_prune.cc:74: tree pruning end, 1 roots, 12 extra nodes, 0 pruned nodes, max_depth=5\u001b[0m\n",
      "\u001b[34m[1]#011train-error:0.060716#011validation-error:0.066497\u001b[0m\n",
      "\u001b[34m[15:44:15] src/tree/updater_prune.cc:74: tree pruning end, 1 roots, 12 extra nodes, 4 pruned nodes, max_depth=5\u001b[0m\n",
      "\u001b[34m[2]#011train-error:0.059445#011validation-error:0.06591\u001b[0m\n",
      "\u001b[34m[15:44:18] src/tree/updater_prune.cc:74: tree pruning end, 1 roots, 12 extra nodes, 2 pruned nodes, max_depth=5\u001b[0m\n",
      "\u001b[34m[3]#011train-error:0.059738#011validation-error:0.066106\u001b[0m\n",
      "\u001b[34m[15:44:21] src/tree/updater_prune.cc:74: tree pruning end, 1 roots, 12 extra nodes, 6 pruned nodes, max_depth=5\u001b[0m\n",
      "\u001b[34m[4]#011train-error:0.05744#011validation-error:0.064346\u001b[0m\n",
      "\u001b[34m[15:44:24] src/tree/updater_prune.cc:74: tree pruning end, 1 roots, 10 extra nodes, 0 pruned nodes, max_depth=5\u001b[0m\n",
      "\u001b[34m[5]#011train-error:0.058809#011validation-error:0.065324\u001b[0m\n",
      "\u001b[34m[15:44:27] src/tree/updater_prune.cc:74: tree pruning end, 1 roots, 10 extra nodes, 2 pruned nodes, max_depth=5\u001b[0m\n",
      "\u001b[34m[6]#011train-error:0.057489#011validation-error:0.064541\u001b[0m\n",
      "\u001b[34m[15:44:30] src/tree/updater_prune.cc:74: tree pruning end, 1 roots, 18 extra nodes, 0 pruned nodes, max_depth=5\u001b[0m\n",
      "\u001b[34m[7]#011train-error:0.058614#011validation-error:0.064933\u001b[0m\n",
      "\u001b[34m[15:44:32] src/tree/updater_prune.cc:74: tree pruning end, 1 roots, 16 extra nodes, 2 pruned nodes, max_depth=5\u001b[0m\n",
      "\u001b[34m[8]#011train-error:0.056756#011validation-error:0.064346\u001b[0m\n",
      "\u001b[34m[15:44:35] src/tree/updater_prune.cc:74: tree pruning end, 1 roots, 10 extra nodes, 2 pruned nodes, max_depth=5\u001b[0m\n",
      "\u001b[34m[9]#011train-error:0.058614#011validation-error:0.064737\u001b[0m\n",
      "\u001b[34m[15:44:38] src/tree/updater_prune.cc:74: tree pruning end, 1 roots, 10 extra nodes, 8 pruned nodes, max_depth=5\u001b[0m\n",
      "\u001b[34m[10]#011train-error:0.057245#011validation-error:0.06415\u001b[0m\n",
      "\u001b[34m[15:44:41] src/tree/updater_prune.cc:74: tree pruning end, 1 roots, 12 extra nodes, 6 pruned nodes, max_depth=5\u001b[0m\n",
      "\u001b[34m[11]#011train-error:0.056707#011validation-error:0.06415\u001b[0m\n",
      "\u001b[34m[15:44:45] src/tree/updater_prune.cc:74: tree pruning end, 1 roots, 12 extra nodes, 10 pruned nodes, max_depth=5\u001b[0m\n",
      "\u001b[34m[12]#011train-error:0.058027#011validation-error:0.064737\u001b[0m\n",
      "\u001b[34m[15:44:48] src/tree/updater_prune.cc:74: tree pruning end, 1 roots, 10 extra nodes, 6 pruned nodes, max_depth=5\u001b[0m\n",
      "\u001b[34m[13]#011train-error:0.057831#011validation-error:0.064737\u001b[0m\n",
      "\u001b[34m[15:44:51] src/tree/updater_prune.cc:74: tree pruning end, 1 roots, 12 extra nodes, 6 pruned nodes, max_depth=5\u001b[0m\n",
      "\u001b[34m[14]#011train-error:0.058076#011validation-error:0.064541\u001b[0m\n",
      "\u001b[34m[15:44:55] src/tree/updater_prune.cc:74: tree pruning end, 1 roots, 12 extra nodes, 8 pruned nodes, max_depth=5\u001b[0m\n",
      "\u001b[34m[15]#011train-error:0.057929#011validation-error:0.064346\u001b[0m\n",
      "\u001b[34m[15:44:58] src/tree/updater_prune.cc:74: tree pruning end, 1 roots, 10 extra nodes, 2 pruned nodes, max_depth=5\u001b[0m\n",
      "\u001b[34m[16]#011train-error:0.058076#011validation-error:0.064346\u001b[0m\n",
      "\u001b[34m[15:45:01] src/tree/updater_prune.cc:74: tree pruning end, 1 roots, 18 extra nodes, 0 pruned nodes, max_depth=5\u001b[0m\n",
      "\u001b[34m[17]#011train-error:0.057343#011validation-error:0.064933\u001b[0m\n",
      "\u001b[34m[15:45:04] src/tree/updater_prune.cc:74: tree pruning end, 1 roots, 10 extra nodes, 6 pruned nodes, max_depth=5\u001b[0m\n",
      "\u001b[34m[18]#011train-error:0.057343#011validation-error:0.064933\u001b[0m\n",
      "\u001b[34m[15:45:07] src/tree/updater_prune.cc:74: tree pruning end, 1 roots, 12 extra nodes, 4 pruned nodes, max_depth=5\u001b[0m\n",
      "\u001b[34m[19]#011train-error:0.057489#011validation-error:0.064933\u001b[0m\n",
      "\u001b[34m[15:45:10] src/tree/updater_prune.cc:74: tree pruning end, 1 roots, 12 extra nodes, 0 pruned nodes, max_depth=5\u001b[0m\n",
      "\u001b[34m[20]#011train-error:0.056805#011validation-error:0.064737\u001b[0m\n",
      "\u001b[34mStopping. Best iteration:\u001b[0m\n",
      "\u001b[34m[10]#011train-error:0.057245#011validation-error:0.06415\u001b[0m\n",
      "\n",
      "2022-03-30 15:45:31 Uploading - Uploading generated training model\n",
      "2022-03-30 15:45:31 Completed - Training job completed\n",
      "Training seconds: 158\n",
      "Billable seconds: 158\n"
     ]
    }
   ],
   "source": [
    "xgb.fit({'train': s3_input_train, 'validation': s3_input_validation})"
   ]
  },
  {
   "cell_type": "markdown",
   "id": "12392501",
   "metadata": {},
   "source": [
    "### Test the model"
   ]
  },
  {
   "cell_type": "code",
   "execution_count": 33,
   "id": "0e5fa437",
   "metadata": {},
   "outputs": [],
   "source": [
    "#Create a transformer object\n",
    "xgb_transformer = xgb.transformer(instance_count = 1, instance_type = 'ml.m4.xlarge')"
   ]
  },
  {
   "cell_type": "code",
   "execution_count": 34,
   "id": "0dcfb680",
   "metadata": {
    "collapsed": true,
    "jupyter": {
     "outputs_hidden": true
    }
   },
   "outputs": [
    {
     "name": "stdout",
     "output_type": "stream",
     "text": [
      "..............................\u001b[34mArguments: serve\u001b[0m\n",
      "\u001b[34m[2022-03-30 16:36:48 +0000] [1] [INFO] Starting gunicorn 19.9.0\u001b[0m\n",
      "\u001b[34m[2022-03-30 16:36:48 +0000] [1] [INFO] Listening at: http://0.0.0.0:8080 (1)\u001b[0m\n",
      "\u001b[34m[2022-03-30 16:36:48 +0000] [1] [INFO] Using worker: gevent\u001b[0m\n",
      "\u001b[35mArguments: serve\u001b[0m\n",
      "\u001b[35m[2022-03-30 16:36:48 +0000] [1] [INFO] Starting gunicorn 19.9.0\u001b[0m\n",
      "\u001b[35m[2022-03-30 16:36:48 +0000] [1] [INFO] Listening at: http://0.0.0.0:8080 (1)\u001b[0m\n",
      "\u001b[35m[2022-03-30 16:36:48 +0000] [1] [INFO] Using worker: gevent\u001b[0m\n",
      "\u001b[34m[2022-03-30 16:36:48 +0000] [21] [INFO] Booting worker with pid: 21\u001b[0m\n",
      "\u001b[34m[2022-03-30 16:36:48 +0000] [22] [INFO] Booting worker with pid: 22\u001b[0m\n",
      "\u001b[34m/opt/amazon/lib/python3.7/site-packages/gunicorn/workers/ggevent.py:65: MonkeyPatchWarning: Monkey-patching ssl after ssl has already been imported may lead to errors, including RecursionError on Python 3.6. It may also silently lead to incorrect behaviour on Python 3.7. Please monkey-patch earlier. See https://github.com/gevent/gevent/issues/1016. Modules that had direct imports (NOT patched): ['urllib3.util (/opt/amazon/lib/python3.7/site-packages/urllib3/util/__init__.py)', 'urllib3.util.ssl_ (/opt/amazon/lib/python3.7/site-packages/urllib3/util/ssl_.py)']. \n",
      "  monkey.patch_all(subprocess=True)\u001b[0m\n",
      "\u001b[34m[2022-03-30:16:36:48:INFO] Model loaded successfully for worker : 21\u001b[0m\n",
      "\u001b[34m/opt/amazon/lib/python3.7/site-packages/gunicorn/workers/ggevent.py:65: MonkeyPatchWarning: Monkey-patching ssl after ssl has already been imported may lead to errors, including RecursionError on Python 3.6. It may also silently lead to incorrect behaviour on Python 3.7. Please monkey-patch earlier. See https://github.com/gevent/gevent/issues/1016. Modules that had direct imports (NOT patched): ['urllib3.util (/opt/amazon/lib/python3.7/site-packages/urllib3/util/__init__.py)', 'urllib3.util.ssl_ (/opt/amazon/lib/python3.7/site-packages/urllib3/util/ssl_.py)']. \n",
      "  monkey.patch_all(subprocess=True)\u001b[0m\n",
      "\u001b[34m[2022-03-30:16:36:48:INFO] Model loaded successfully for worker : 22\u001b[0m\n",
      "\u001b[34m[2022-03-30 16:36:48 +0000] [23] [INFO] Booting worker with pid: 23\u001b[0m\n",
      "\u001b[34m/opt/amazon/lib/python3.7/site-packages/gunicorn/workers/ggevent.py:65: MonkeyPatchWarning: Monkey-patching ssl after ssl has already been imported may lead to errors, including RecursionError on Python 3.6. It may also silently lead to incorrect behaviour on Python 3.7. Please monkey-patch earlier. See https://github.com/gevent/gevent/issues/1016. Modules that had direct imports (NOT patched): ['urllib3.util (/opt/amazon/lib/python3.7/site-packages/urllib3/util/__init__.py)', 'urllib3.util.ssl_ (/opt/amazon/lib/python3.7/site-packages/urllib3/util/ssl_.py)']. \n",
      "  monkey.patch_all(subprocess=True)\u001b[0m\n",
      "\u001b[34m[2022-03-30:16:36:48:INFO] Model loaded successfully for worker : 23\u001b[0m\n",
      "\u001b[34m[2022-03-30 16:36:48 +0000] [24] [INFO] Booting worker with pid: 24\u001b[0m\n",
      "\u001b[34m/opt/amazon/lib/python3.7/site-packages/gunicorn/workers/ggevent.py:65: MonkeyPatchWarning: Monkey-patching ssl after ssl has already been imported may lead to errors, including RecursionError on Python 3.6. It may also silently lead to incorrect behaviour on Python 3.7. Please monkey-patch earlier. See https://github.com/gevent/gevent/issues/1016. Modules that had direct imports (NOT patched): ['urllib3.util (/opt/amazon/lib/python3.7/site-packages/urllib3/util/__init__.py)', 'urllib3.util.ssl_ (/opt/amazon/lib/python3.7/site-packages/urllib3/util/ssl_.py)']. \n",
      "  monkey.patch_all(subprocess=True)\u001b[0m\n",
      "\u001b[34m[2022-03-30:16:36:48:INFO] Model loaded successfully for worker : 24\u001b[0m\n",
      "\u001b[35m[2022-03-30 16:36:48 +0000] [21] [INFO] Booting worker with pid: 21\u001b[0m\n",
      "\u001b[35m[2022-03-30 16:36:48 +0000] [22] [INFO] Booting worker with pid: 22\u001b[0m\n",
      "\u001b[35m/opt/amazon/lib/python3.7/site-packages/gunicorn/workers/ggevent.py:65: MonkeyPatchWarning: Monkey-patching ssl after ssl has already been imported may lead to errors, including RecursionError on Python 3.6. It may also silently lead to incorrect behaviour on Python 3.7. Please monkey-patch earlier. See https://github.com/gevent/gevent/issues/1016. Modules that had direct imports (NOT patched): ['urllib3.util (/opt/amazon/lib/python3.7/site-packages/urllib3/util/__init__.py)', 'urllib3.util.ssl_ (/opt/amazon/lib/python3.7/site-packages/urllib3/util/ssl_.py)']. \n",
      "  monkey.patch_all(subprocess=True)\u001b[0m\n",
      "\u001b[35m[2022-03-30:16:36:48:INFO] Model loaded successfully for worker : 21\u001b[0m\n",
      "\u001b[35m/opt/amazon/lib/python3.7/site-packages/gunicorn/workers/ggevent.py:65: MonkeyPatchWarning: Monkey-patching ssl after ssl has already been imported may lead to errors, including RecursionError on Python 3.6. It may also silently lead to incorrect behaviour on Python 3.7. Please monkey-patch earlier. See https://github.com/gevent/gevent/issues/1016. Modules that had direct imports (NOT patched): ['urllib3.util (/opt/amazon/lib/python3.7/site-packages/urllib3/util/__init__.py)', 'urllib3.util.ssl_ (/opt/amazon/lib/python3.7/site-packages/urllib3/util/ssl_.py)']. \n",
      "  monkey.patch_all(subprocess=True)\u001b[0m\n",
      "\u001b[35m[2022-03-30:16:36:48:INFO] Model loaded successfully for worker : 22\u001b[0m\n",
      "\u001b[35m[2022-03-30 16:36:48 +0000] [23] [INFO] Booting worker with pid: 23\u001b[0m\n",
      "\u001b[35m/opt/amazon/lib/python3.7/site-packages/gunicorn/workers/ggevent.py:65: MonkeyPatchWarning: Monkey-patching ssl after ssl has already been imported may lead to errors, including RecursionError on Python 3.6. It may also silently lead to incorrect behaviour on Python 3.7. Please monkey-patch earlier. See https://github.com/gevent/gevent/issues/1016. Modules that had direct imports (NOT patched): ['urllib3.util (/opt/amazon/lib/python3.7/site-packages/urllib3/util/__init__.py)', 'urllib3.util.ssl_ (/opt/amazon/lib/python3.7/site-packages/urllib3/util/ssl_.py)']. \n",
      "  monkey.patch_all(subprocess=True)\u001b[0m\n",
      "\u001b[35m[2022-03-30:16:36:48:INFO] Model loaded successfully for worker : 23\u001b[0m\n",
      "\u001b[35m[2022-03-30 16:36:48 +0000] [24] [INFO] Booting worker with pid: 24\u001b[0m\n",
      "\u001b[35m/opt/amazon/lib/python3.7/site-packages/gunicorn/workers/ggevent.py:65: MonkeyPatchWarning: Monkey-patching ssl after ssl has already been imported may lead to errors, including RecursionError on Python 3.6. It may also silently lead to incorrect behaviour on Python 3.7. Please monkey-patch earlier. See https://github.com/gevent/gevent/issues/1016. Modules that had direct imports (NOT patched): ['urllib3.util (/opt/amazon/lib/python3.7/site-packages/urllib3/util/__init__.py)', 'urllib3.util.ssl_ (/opt/amazon/lib/python3.7/site-packages/urllib3/util/ssl_.py)']. \n",
      "  monkey.patch_all(subprocess=True)\u001b[0m\n",
      "\u001b[35m[2022-03-30:16:36:48:INFO] Model loaded successfully for worker : 24\u001b[0m\n",
      "\u001b[34m[2022-03-30:16:36:54:INFO] Sniff delimiter as ','\u001b[0m\n",
      "\u001b[34m[2022-03-30:16:36:54:INFO] Determined delimiter of CSV input is ','\u001b[0m\n",
      "\u001b[34m[2022-03-30:16:36:54:INFO] Sniff delimiter as ','\u001b[0m\n",
      "\u001b[34m[2022-03-30:16:36:54:INFO] Determined delimiter of CSV input is ','\u001b[0m\n",
      "\u001b[34m[2022-03-30:16:36:54:INFO] Sniff delimiter as ','\u001b[0m\n",
      "\u001b[34m[2022-03-30:16:36:54:INFO] Determined delimiter of CSV input is ','\u001b[0m\n",
      "\u001b[34m[2022-03-30:16:36:54:INFO] Sniff delimiter as ','\u001b[0m\n",
      "\u001b[34m[2022-03-30:16:36:54:INFO] Determined delimiter of CSV input is ','\u001b[0m\n",
      "\u001b[35m[2022-03-30:16:36:54:INFO] Sniff delimiter as ','\u001b[0m\n",
      "\u001b[35m[2022-03-30:16:36:54:INFO] Determined delimiter of CSV input is ','\u001b[0m\n",
      "\u001b[35m[2022-03-30:16:36:54:INFO] Sniff delimiter as ','\u001b[0m\n",
      "\u001b[35m[2022-03-30:16:36:54:INFO] Determined delimiter of CSV input is ','\u001b[0m\n",
      "\u001b[35m[2022-03-30:16:36:54:INFO] Sniff delimiter as ','\u001b[0m\n",
      "\u001b[35m[2022-03-30:16:36:54:INFO] Determined delimiter of CSV input is ','\u001b[0m\n",
      "\u001b[35m[2022-03-30:16:36:54:INFO] Sniff delimiter as ','\u001b[0m\n",
      "\u001b[35m[2022-03-30:16:36:54:INFO] Determined delimiter of CSV input is ','\u001b[0m\n",
      "\u001b[32m2022-03-30T16:36:52.710:[sagemaker logs]: MaxConcurrentTransforms=4, MaxPayloadInMB=6, BatchStrategy=MULTI_RECORD\u001b[0m\n",
      "\u001b[34m[2022-03-30:16:36:58:INFO] Sniff delimiter as ','\u001b[0m\n",
      "\u001b[35m[2022-03-30:16:36:58:INFO] Sniff delimiter as ','\u001b[0m\n",
      "\u001b[34m[2022-03-30:16:36:58:INFO] Determined delimiter of CSV input is ','\u001b[0m\n",
      "\u001b[34m[2022-03-30:16:36:58:INFO] Sniff delimiter as ','\u001b[0m\n",
      "\u001b[34m[2022-03-30:16:36:58:INFO] Determined delimiter of CSV input is ','\u001b[0m\n",
      "\u001b[34m[2022-03-30:16:36:58:INFO] Sniff delimiter as ','\u001b[0m\n",
      "\u001b[34m[2022-03-30:16:36:58:INFO] Determined delimiter of CSV input is ','\u001b[0m\n",
      "\u001b[35m[2022-03-30:16:36:58:INFO] Determined delimiter of CSV input is ','\u001b[0m\n",
      "\u001b[35m[2022-03-30:16:36:58:INFO] Sniff delimiter as ','\u001b[0m\n",
      "\u001b[35m[2022-03-30:16:36:58:INFO] Determined delimiter of CSV input is ','\u001b[0m\n",
      "\u001b[35m[2022-03-30:16:36:58:INFO] Sniff delimiter as ','\u001b[0m\n",
      "\u001b[35m[2022-03-30:16:36:58:INFO] Determined delimiter of CSV input is ','\u001b[0m\n",
      "\u001b[34m[2022-03-30:16:37:01:INFO] Determined delimiter of CSV input is ','\u001b[0m\n",
      "\u001b[35m[2022-03-30:16:37:01:INFO] Determined delimiter of CSV input is ','\u001b[0m\n",
      "\u001b[34m[2022-03-30:16:37:02:INFO] Sniff delimiter as ','\u001b[0m\n",
      "\u001b[34m[2022-03-30:16:37:02:INFO] Determined delimiter of CSV input is ','\u001b[0m\n",
      "\u001b[35m[2022-03-30:16:37:02:INFO] Sniff delimiter as ','\u001b[0m\n",
      "\u001b[35m[2022-03-30:16:37:02:INFO] Determined delimiter of CSV input is ','\u001b[0m\n",
      "\u001b[34m[2022-03-30:16:37:03:INFO] Sniff delimiter as ','\u001b[0m\n",
      "\u001b[34m[2022-03-30:16:37:03:INFO] Determined delimiter of CSV input is ','\u001b[0m\n",
      "\u001b[35m[2022-03-30:16:37:03:INFO] Sniff delimiter as ','\u001b[0m\n",
      "\u001b[35m[2022-03-30:16:37:03:INFO] Determined delimiter of CSV input is ','\u001b[0m\n",
      "\u001b[34m[2022-03-30:16:37:05:INFO] Sniff delimiter as ','\u001b[0m\n",
      "\u001b[34m[2022-03-30:16:37:05:INFO] Determined delimiter of CSV input is ','\u001b[0m\n",
      "\u001b[35m[2022-03-30:16:37:05:INFO] Sniff delimiter as ','\u001b[0m\n",
      "\u001b[35m[2022-03-30:16:37:05:INFO] Determined delimiter of CSV input is ','\u001b[0m\n",
      "\n"
     ]
    }
   ],
   "source": [
    "xgb_transformer.transform(test_location, content_type='text/csv', split_type='Line')"
   ]
  },
  {
   "cell_type": "code",
   "execution_count": 35,
   "id": "e455a2c8",
   "metadata": {
    "collapsed": true,
    "jupyter": {
     "outputs_hidden": true
    }
   },
   "outputs": [
    {
     "name": "stdout",
     "output_type": "stream",
     "text": [
      "\u001b[34mArguments: serve\u001b[0m\n",
      "\u001b[34m[2022-03-30 16:36:48 +0000] [1] [INFO] Starting gunicorn 19.9.0\u001b[0m\n",
      "\u001b[34m[2022-03-30 16:36:48 +0000] [1] [INFO] Listening at: http://0.0.0.0:8080 (1)\u001b[0m\n",
      "\u001b[34m[2022-03-30 16:36:48 +0000] [1] [INFO] Using worker: gevent\u001b[0m\n",
      "\u001b[35mArguments: serve\u001b[0m\n",
      "\u001b[35m[2022-03-30 16:36:48 +0000] [1] [INFO] Starting gunicorn 19.9.0\u001b[0m\n",
      "\u001b[35m[2022-03-30 16:36:48 +0000] [1] [INFO] Listening at: http://0.0.0.0:8080 (1)\u001b[0m\n",
      "\u001b[35m[2022-03-30 16:36:48 +0000] [1] [INFO] Using worker: gevent\u001b[0m\n",
      "\u001b[34m[2022-03-30 16:36:48 +0000] [21] [INFO] Booting worker with pid: 21\u001b[0m\n",
      "\u001b[34m[2022-03-30 16:36:48 +0000] [22] [INFO] Booting worker with pid: 22\u001b[0m\n",
      "\u001b[34m/opt/amazon/lib/python3.7/site-packages/gunicorn/workers/ggevent.py:65: MonkeyPatchWarning: Monkey-patching ssl after ssl has already been imported may lead to errors, including RecursionError on Python 3.6. It may also silently lead to incorrect behaviour on Python 3.7. Please monkey-patch earlier. See https://github.com/gevent/gevent/issues/1016. Modules that had direct imports (NOT patched): ['urllib3.util (/opt/amazon/lib/python3.7/site-packages/urllib3/util/__init__.py)', 'urllib3.util.ssl_ (/opt/amazon/lib/python3.7/site-packages/urllib3/util/ssl_.py)']. \n",
      "  monkey.patch_all(subprocess=True)\u001b[0m\n",
      "\u001b[34m[2022-03-30:16:36:48:INFO] Model loaded successfully for worker : 21\u001b[0m\n",
      "\u001b[34m/opt/amazon/lib/python3.7/site-packages/gunicorn/workers/ggevent.py:65: MonkeyPatchWarning: Monkey-patching ssl after ssl has already been imported may lead to errors, including RecursionError on Python 3.6. It may also silently lead to incorrect behaviour on Python 3.7. Please monkey-patch earlier. See https://github.com/gevent/gevent/issues/1016. Modules that had direct imports (NOT patched): ['urllib3.util (/opt/amazon/lib/python3.7/site-packages/urllib3/util/__init__.py)', 'urllib3.util.ssl_ (/opt/amazon/lib/python3.7/site-packages/urllib3/util/ssl_.py)']. \n",
      "  monkey.patch_all(subprocess=True)\u001b[0m\n",
      "\u001b[34m[2022-03-30:16:36:48:INFO] Model loaded successfully for worker : 22\u001b[0m\n",
      "\u001b[34m[2022-03-30 16:36:48 +0000] [23] [INFO] Booting worker with pid: 23\u001b[0m\n",
      "\u001b[34m/opt/amazon/lib/python3.7/site-packages/gunicorn/workers/ggevent.py:65: MonkeyPatchWarning: Monkey-patching ssl after ssl has already been imported may lead to errors, including RecursionError on Python 3.6. It may also silently lead to incorrect behaviour on Python 3.7. Please monkey-patch earlier. See https://github.com/gevent/gevent/issues/1016. Modules that had direct imports (NOT patched): ['urllib3.util (/opt/amazon/lib/python3.7/site-packages/urllib3/util/__init__.py)', 'urllib3.util.ssl_ (/opt/amazon/lib/python3.7/site-packages/urllib3/util/ssl_.py)']. \n",
      "  monkey.patch_all(subprocess=True)\u001b[0m\n",
      "\u001b[34m[2022-03-30:16:36:48:INFO] Model loaded successfully for worker : 23\u001b[0m\n",
      "\u001b[34m[2022-03-30 16:36:48 +0000] [24] [INFO] Booting worker with pid: 24\u001b[0m\n",
      "\u001b[34m/opt/amazon/lib/python3.7/site-packages/gunicorn/workers/ggevent.py:65: MonkeyPatchWarning: Monkey-patching ssl after ssl has already been imported may lead to errors, including RecursionError on Python 3.6. It may also silently lead to incorrect behaviour on Python 3.7. Please monkey-patch earlier. See https://github.com/gevent/gevent/issues/1016. Modules that had direct imports (NOT patched): ['urllib3.util (/opt/amazon/lib/python3.7/site-packages/urllib3/util/__init__.py)', 'urllib3.util.ssl_ (/opt/amazon/lib/python3.7/site-packages/urllib3/util/ssl_.py)']. \n",
      "  monkey.patch_all(subprocess=True)\u001b[0m\n",
      "\u001b[34m[2022-03-30:16:36:48:INFO] Model loaded successfully for worker : 24\u001b[0m\n",
      "\u001b[35m[2022-03-30 16:36:48 +0000] [21] [INFO] Booting worker with pid: 21\u001b[0m\n",
      "\u001b[35m[2022-03-30 16:36:48 +0000] [22] [INFO] Booting worker with pid: 22\u001b[0m\n",
      "\u001b[35m/opt/amazon/lib/python3.7/site-packages/gunicorn/workers/ggevent.py:65: MonkeyPatchWarning: Monkey-patching ssl after ssl has already been imported may lead to errors, including RecursionError on Python 3.6. It may also silently lead to incorrect behaviour on Python 3.7. Please monkey-patch earlier. See https://github.com/gevent/gevent/issues/1016. Modules that had direct imports (NOT patched): ['urllib3.util (/opt/amazon/lib/python3.7/site-packages/urllib3/util/__init__.py)', 'urllib3.util.ssl_ (/opt/amazon/lib/python3.7/site-packages/urllib3/util/ssl_.py)']. \n",
      "  monkey.patch_all(subprocess=True)\u001b[0m\n",
      "\u001b[35m[2022-03-30:16:36:48:INFO] Model loaded successfully for worker : 21\u001b[0m\n",
      "\u001b[35m/opt/amazon/lib/python3.7/site-packages/gunicorn/workers/ggevent.py:65: MonkeyPatchWarning: Monkey-patching ssl after ssl has already been imported may lead to errors, including RecursionError on Python 3.6. It may also silently lead to incorrect behaviour on Python 3.7. Please monkey-patch earlier. See https://github.com/gevent/gevent/issues/1016. Modules that had direct imports (NOT patched): ['urllib3.util (/opt/amazon/lib/python3.7/site-packages/urllib3/util/__init__.py)', 'urllib3.util.ssl_ (/opt/amazon/lib/python3.7/site-packages/urllib3/util/ssl_.py)']. \n",
      "  monkey.patch_all(subprocess=True)\u001b[0m\n",
      "\u001b[35m[2022-03-30:16:36:48:INFO] Model loaded successfully for worker : 22\u001b[0m\n",
      "\u001b[35m[2022-03-30 16:36:48 +0000] [23] [INFO] Booting worker with pid: 23\u001b[0m\n",
      "\u001b[35m/opt/amazon/lib/python3.7/site-packages/gunicorn/workers/ggevent.py:65: MonkeyPatchWarning: Monkey-patching ssl after ssl has already been imported may lead to errors, including RecursionError on Python 3.6. It may also silently lead to incorrect behaviour on Python 3.7. Please monkey-patch earlier. See https://github.com/gevent/gevent/issues/1016. Modules that had direct imports (NOT patched): ['urllib3.util (/opt/amazon/lib/python3.7/site-packages/urllib3/util/__init__.py)', 'urllib3.util.ssl_ (/opt/amazon/lib/python3.7/site-packages/urllib3/util/ssl_.py)']. \n",
      "  monkey.patch_all(subprocess=True)\u001b[0m\n",
      "\u001b[35m[2022-03-30:16:36:48:INFO] Model loaded successfully for worker : 23\u001b[0m\n",
      "\u001b[35m[2022-03-30 16:36:48 +0000] [24] [INFO] Booting worker with pid: 24\u001b[0m\n",
      "\u001b[35m/opt/amazon/lib/python3.7/site-packages/gunicorn/workers/ggevent.py:65: MonkeyPatchWarning: Monkey-patching ssl after ssl has already been imported may lead to errors, including RecursionError on Python 3.6. It may also silently lead to incorrect behaviour on Python 3.7. Please monkey-patch earlier. See https://github.com/gevent/gevent/issues/1016. Modules that had direct imports (NOT patched): ['urllib3.util (/opt/amazon/lib/python3.7/site-packages/urllib3/util/__init__.py)', 'urllib3.util.ssl_ (/opt/amazon/lib/python3.7/site-packages/urllib3/util/ssl_.py)']. \n",
      "  monkey.patch_all(subprocess=True)\u001b[0m\n",
      "\u001b[35m[2022-03-30:16:36:48:INFO] Model loaded successfully for worker : 24\u001b[0m\n",
      "\u001b[34m[2022-03-30:16:36:54:INFO] Sniff delimiter as ','\u001b[0m\n",
      "\u001b[34m[2022-03-30:16:36:54:INFO] Determined delimiter of CSV input is ','\u001b[0m\n",
      "\u001b[34m[2022-03-30:16:36:54:INFO] Sniff delimiter as ','\u001b[0m\n",
      "\u001b[34m[2022-03-30:16:36:54:INFO] Determined delimiter of CSV input is ','\u001b[0m\n",
      "\u001b[34m[2022-03-30:16:36:54:INFO] Sniff delimiter as ','\u001b[0m\n",
      "\u001b[34m[2022-03-30:16:36:54:INFO] Determined delimiter of CSV input is ','\u001b[0m\n",
      "\u001b[34m[2022-03-30:16:36:54:INFO] Sniff delimiter as ','\u001b[0m\n",
      "\u001b[34m[2022-03-30:16:36:54:INFO] Determined delimiter of CSV input is ','\u001b[0m\n",
      "\u001b[35m[2022-03-30:16:36:54:INFO] Sniff delimiter as ','\u001b[0m\n",
      "\u001b[35m[2022-03-30:16:36:54:INFO] Determined delimiter of CSV input is ','\u001b[0m\n",
      "\u001b[35m[2022-03-30:16:36:54:INFO] Sniff delimiter as ','\u001b[0m\n",
      "\u001b[35m[2022-03-30:16:36:54:INFO] Determined delimiter of CSV input is ','\u001b[0m\n",
      "\u001b[35m[2022-03-30:16:36:54:INFO] Sniff delimiter as ','\u001b[0m\n",
      "\u001b[35m[2022-03-30:16:36:54:INFO] Determined delimiter of CSV input is ','\u001b[0m\n",
      "\u001b[35m[2022-03-30:16:36:54:INFO] Sniff delimiter as ','\u001b[0m\n",
      "\u001b[35m[2022-03-30:16:36:54:INFO] Determined delimiter of CSV input is ','\u001b[0m\n",
      "\u001b[32m2022-03-30T16:36:52.710:[sagemaker logs]: MaxConcurrentTransforms=4, MaxPayloadInMB=6, BatchStrategy=MULTI_RECORD\u001b[0m\n",
      "\u001b[34m[2022-03-30:16:36:58:INFO] Sniff delimiter as ','\u001b[0m\n",
      "\u001b[35m[2022-03-30:16:36:58:INFO] Sniff delimiter as ','\u001b[0m\n",
      "\u001b[34m[2022-03-30:16:36:58:INFO] Determined delimiter of CSV input is ','\u001b[0m\n",
      "\u001b[34m[2022-03-30:16:36:58:INFO] Sniff delimiter as ','\u001b[0m\n",
      "\u001b[34m[2022-03-30:16:36:58:INFO] Determined delimiter of CSV input is ','\u001b[0m\n",
      "\u001b[34m[2022-03-30:16:36:58:INFO] Sniff delimiter as ','\u001b[0m\n",
      "\u001b[34m[2022-03-30:16:36:58:INFO] Determined delimiter of CSV input is ','\u001b[0m\n",
      "\u001b[35m[2022-03-30:16:36:58:INFO] Determined delimiter of CSV input is ','\u001b[0m\n",
      "\u001b[35m[2022-03-30:16:36:58:INFO] Sniff delimiter as ','\u001b[0m\n",
      "\u001b[35m[2022-03-30:16:36:58:INFO] Determined delimiter of CSV input is ','\u001b[0m\n",
      "\u001b[35m[2022-03-30:16:36:58:INFO] Sniff delimiter as ','\u001b[0m\n",
      "\u001b[35m[2022-03-30:16:36:58:INFO] Determined delimiter of CSV input is ','\u001b[0m\n",
      "\u001b[34m[2022-03-30:16:37:00:INFO] Sniff delimiter as ','\u001b[0m\n",
      "\u001b[34m[2022-03-30:16:37:00:INFO] Determined delimiter of CSV input is ','\u001b[0m\n",
      "\u001b[35m[2022-03-30:16:37:00:INFO] Sniff delimiter as ','\u001b[0m\n",
      "\u001b[35m[2022-03-30:16:37:00:INFO] Determined delimiter of CSV input is ','\u001b[0m\n",
      "\u001b[34m[2022-03-30:16:37:01:INFO] Sniff delimiter as ','\u001b[0m\n",
      "\u001b[34m[2022-03-30:16:37:01:INFO] Determined delimiter of CSV input is ','\u001b[0m\n",
      "\u001b[35m[2022-03-30:16:37:01:INFO] Sniff delimiter as ','\u001b[0m\n",
      "\u001b[35m[2022-03-30:16:37:01:INFO] Determined delimiter of CSV input is ','\u001b[0m\n",
      "\u001b[34m[2022-03-30:16:37:01:INFO] Sniff delimiter as ','\u001b[0m\n",
      "\u001b[34m[2022-03-30:16:37:01:INFO] Determined delimiter of CSV input is ','\u001b[0m\n",
      "\u001b[35m[2022-03-30:16:37:01:INFO] Sniff delimiter as ','\u001b[0m\n",
      "\u001b[35m[2022-03-30:16:37:01:INFO] Determined delimiter of CSV input is ','\u001b[0m\n",
      "\u001b[34m[2022-03-30:16:37:02:INFO] Sniff delimiter as ','\u001b[0m\n",
      "\u001b[34m[2022-03-30:16:37:02:INFO] Determined delimiter of CSV input is ','\u001b[0m\n",
      "\u001b[35m[2022-03-30:16:37:02:INFO] Sniff delimiter as ','\u001b[0m\n",
      "\u001b[35m[2022-03-30:16:37:02:INFO] Determined delimiter of CSV input is ','\u001b[0m\n",
      "\u001b[34m[2022-03-30:16:37:03:INFO] Sniff delimiter as ','\u001b[0m\n",
      "\u001b[34m[2022-03-30:16:37:03:INFO] Determined delimiter of CSV input is ','\u001b[0m\n",
      "\u001b[35m[2022-03-30:16:37:03:INFO] Sniff delimiter as ','\u001b[0m\n",
      "\u001b[35m[2022-03-30:16:37:03:INFO] Determined delimiter of CSV input is ','\u001b[0m\n",
      "\u001b[34m[2022-03-30:16:37:05:INFO] Sniff delimiter as ','\u001b[0m\n",
      "\u001b[34m[2022-03-30:16:37:05:INFO] Determined delimiter of CSV input is ','\u001b[0m\n",
      "\u001b[35m[2022-03-30:16:37:05:INFO] Sniff delimiter as ','\u001b[0m\n",
      "\u001b[35m[2022-03-30:16:37:05:INFO] Determined delimiter of CSV input is ','\u001b[0m\n"
     ]
    }
   ],
   "source": [
    "xgb_transformer.wait()"
   ]
  },
  {
   "cell_type": "code",
   "execution_count": 38,
   "id": "b3a4db43",
   "metadata": {},
   "outputs": [],
   "source": [
    "data_dir = \"results\""
   ]
  },
  {
   "cell_type": "code",
   "execution_count": 39,
   "id": "08f945f2",
   "metadata": {},
   "outputs": [
    {
     "name": "stdout",
     "output_type": "stream",
     "text": [
      "download: s3://sagemaker-us-east-2-730413480526/xgboost-2022-03-30-16-31-55-849/test.csv.out to results/test.csv.out\n"
     ]
    }
   ],
   "source": [
    "!aws s3 cp --recursive $xgb_transformer.output_path $data_dir"
   ]
  },
  {
   "cell_type": "code",
   "execution_count": 40,
   "id": "3e893e22",
   "metadata": {},
   "outputs": [],
   "source": [
    "predictions = pd.read_csv(os.path.join(data_dir, 'test.csv.out'), header=None)\n",
    "predictions = [round(num) for num in predictions.squeeze().values]"
   ]
  },
  {
   "cell_type": "code",
   "execution_count": 61,
   "id": "530748a6",
   "metadata": {},
   "outputs": [],
   "source": [
    "test_y = pd.read_csv(f\"data_prepared_{version}/test_y.csv\",header = None)\n",
    "test_y = list(test_y[0])"
   ]
  },
  {
   "cell_type": "code",
   "execution_count": 66,
   "id": "7e622a60",
   "metadata": {},
   "outputs": [
    {
     "name": "stdout",
     "output_type": "stream",
     "text": [
      "accuracy:  0.9416549350852494\n",
      "precision:  0.8613861386138614\n",
      "recall:  0.19506726457399104\n"
     ]
    }
   ],
   "source": [
    "from sklearn.metrics import accuracy_score, precision_score, recall_score\n",
    "print(f\"Model version: {version}\")\n",
    "print(\"accuracy: \", accuracy_score(test_y, predictions))\n",
    "print(\"precision: \", precision_score(test_y, predictions))\n",
    "print(\"recall: \", recall_score(test_y, predictions))"
   ]
  },
  {
   "cell_type": "code",
   "execution_count": 65,
   "id": "cbef8171",
   "metadata": {},
   "outputs": [
    {
     "data": {
      "text/plain": [
       "array([[5933,   14],\n",
       "       [ 359,   87]])"
      ]
     },
     "execution_count": 65,
     "metadata": {},
     "output_type": "execute_result"
    }
   ],
   "source": [
    "from sklearn.metrics import confusion_matrix\n",
    "\n",
    "confusion_matrix(test_y, predictions, labels=None, sample_weight=None, normalize=None)"
   ]
  }
 ],
 "metadata": {
  "kernelspec": {
   "display_name": "conda_amazonei_mxnet_p36",
   "language": "python",
   "name": "conda_amazonei_mxnet_p36"
  },
  "language_info": {
   "codemirror_mode": {
    "name": "ipython",
    "version": 3
   },
   "file_extension": ".py",
   "mimetype": "text/x-python",
   "name": "python",
   "nbconvert_exporter": "python",
   "pygments_lexer": "ipython3",
   "version": "3.6.13"
  }
 },
 "nbformat": 4,
 "nbformat_minor": 5
}
