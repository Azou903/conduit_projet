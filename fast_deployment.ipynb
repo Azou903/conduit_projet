{
 "cells": [
  {
   "cell_type": "markdown",
   "id": "737bdd49",
   "metadata": {},
   "source": [
    "# Fast Deployment\n",
    "\n",
    "This script intends to create the estimator and predictor objects with no further configuration so it can be deployed for demonstrations."
   ]
  },
  {
   "cell_type": "code",
   "execution_count": null,
   "id": "2a5a2ff2",
   "metadata": {},
   "outputs": [],
   "source": [
    "import sagemaker\n",
    "\n",
    "import json\n",
    "with open(\"data/training_job_AWS.json\",\"r\") as file:\n",
    "    training_job = json.load(file)\n",
    "    training_job = training_job[\"training_job\"]\n",
    "\n",
    "print(training_job)\n",
    "\n",
    "xgb_combined = sagemaker.estimator.Estimator.attach(training_job)\n",
    "\n",
    "xgb_combined_predictor = xgb_combined.deploy(initial_instance_count = 1, instance_type = 'ml.m4.xlarge',endpoint_name = \"twitter-sentiment-endpoint\") #we set our own endpoint name"
   ]
  },
  {
   "cell_type": "code",
   "execution_count": null,
   "id": "eaaf2326",
   "metadata": {},
   "outputs": [],
   "source": [
    "xgb_combined_predictor.delete_endpoint()"
   ]
  }
 ],
 "metadata": {
  "kernelspec": {
   "display_name": "conda_amazonei_mxnet_p36",
   "language": "python",
   "name": "conda_amazonei_mxnet_p36"
  },
  "language_info": {
   "codemirror_mode": {
    "name": "ipython",
    "version": 3
   },
   "file_extension": ".py",
   "mimetype": "text/x-python",
   "name": "python",
   "nbconvert_exporter": "python",
   "pygments_lexer": "ipython3",
   "version": "3.6.13"
  }
 },
 "nbformat": 4,
 "nbformat_minor": 5
}
